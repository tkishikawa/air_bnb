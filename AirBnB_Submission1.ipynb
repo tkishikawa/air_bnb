{
 "cells": [
  {
   "cell_type": "markdown",
   "metadata": {},
   "source": [
    "## AirBnB、ユーザが最初に訪れる国名の予測"
   ]
  },
  {
   "cell_type": "markdown",
   "metadata": {},
   "source": [
    "Basic Course - Day2: Takao Ishikawa"
   ]
  },
  {
   "cell_type": "code",
   "execution_count": 1,
   "metadata": {},
   "outputs": [
    {
     "name": "stderr",
     "output_type": "stream",
     "text": [
      "C:\\Users\\takao\\Anaconda3\\lib\\site-packages\\sklearn\\cross_validation.py:44: DeprecationWarning: This module was deprecated in version 0.18 in favor of the model_selection module into which all the refactored classes and functions are moved. Also note that the interface of the new CV iterators are different from that of this module. This module will be removed in 0.20.\n",
      "  \"This module will be removed in 0.20.\", DeprecationWarning)\n"
     ]
    }
   ],
   "source": [
    "%matplotlib inline\n",
    "import numpy as np\n",
    "import pandas as pd\n",
    "import matplotlib\n",
    "import matplotlib.pyplot as plt\n",
    "matplotlib.style.use(\"ggplot\")\n",
    "from sklearn.ensemble import RandomForestClassifier\n",
    "from sklearn.cross_validation import KFold"
   ]
  },
  {
   "cell_type": "code",
   "execution_count": 2,
   "metadata": {
    "collapsed": true
   },
   "outputs": [],
   "source": [
    "age_gender_data = pd.read_csv(\"Airbnb/age_gender_bkts.csv\")\n",
    "country_data = pd.read_csv(\"Airbnb/countries.csv\")\n",
    "# session_data = pd.read_csv(\"Airbnb/sessions.csv\")\n",
    "# smp_submission_data = pd.read_csv(\"Airbnb/sample_submission_NDF.csv\")\n",
    "test = pd.read_csv(\"Airbnb/test_users.csv\")\n",
    "train = pd.read_csv(\"Airbnb/train_users_2.csv\")"
   ]
  },
  {
   "cell_type": "markdown",
   "metadata": {},
   "source": [
    "## TrainとTestデータの結合"
   ]
  },
  {
   "cell_type": "code",
   "execution_count": 3,
   "metadata": {},
   "outputs": [
    {
     "data": {
      "text/plain": [
       "(275547, 17)"
      ]
     },
     "execution_count": 3,
     "metadata": {},
     "output_type": "execute_result"
    }
   ],
   "source": [
    "# 識別列を追加した上で、TrainとTestデータを結合\n",
    "test[\"country_destination\"] = np.nan\n",
    "test[\"source\"] = \"test\"\n",
    "train[\"source\"] = \"train\"\n",
    "whole = pd.concat([train, test], axis=0)\n",
    "whole.shape"
   ]
  },
  {
   "cell_type": "code",
   "execution_count": 4,
   "metadata": {},
   "outputs": [
    {
     "data": {
      "text/plain": [
       "id                         275547\n",
       "date_account_created       275547\n",
       "timestamp_first_active     275547\n",
       "date_first_booking          88908\n",
       "gender                     275547\n",
       "age                        158681\n",
       "signup_method              275547\n",
       "signup_flow                275547\n",
       "language                   275547\n",
       "affiliate_channel          275547\n",
       "affiliate_provider         275547\n",
       "first_affiliate_tracked    269462\n",
       "signup_app                 275547\n",
       "first_device_type          275547\n",
       "first_browser              275547\n",
       "country_destination        213451\n",
       "source                     275547\n",
       "dtype: int64"
      ]
     },
     "execution_count": 4,
     "metadata": {},
     "output_type": "execute_result"
    }
   ],
   "source": [
    "# 欠損値検査\n",
    "whole.count()"
   ]
  },
  {
   "cell_type": "code",
   "execution_count": 5,
   "metadata": {},
   "outputs": [
    {
     "data": {
      "text/plain": [
       "-unknown-    129480\n",
       "FEMALE        77524\n",
       "MALE          68209\n",
       "OTHER           334\n",
       "Name: gender, dtype: int64"
      ]
     },
     "execution_count": 5,
     "metadata": {},
     "output_type": "execute_result"
    }
   ],
   "source": [
    "# Genderの中身精査\n",
    "whole.gender.value_counts()\n",
    "  # genderがunknownのデータは全体の半分、これらは処理をせずに独立の変数として扱う\n",
    "  # genderが\"OTHER\"のグループは334件と少ないので、unknownとして扱う方針とする（処理は別途）"
   ]
  },
  {
   "cell_type": "code",
   "execution_count": 6,
   "metadata": {
    "collapsed": true
   },
   "outputs": [],
   "source": [
    "# age_gender_dataとの結合に備えて、whole[\"gender\"]のnotationを変更する\n",
    "def change_gender_notation(x):\n",
    "    if x == \"FEMALE\":\n",
    "        return \"female\"\n",
    "    elif x == \"MALE\":\n",
    "        return \"male\"\n",
    "    elif x == \"OTHER\":\n",
    "        return \"-unknown-\"\n",
    "    elif x == \"-unknown-\":\n",
    "        return \"-unknown-\""
   ]
  },
  {
   "cell_type": "code",
   "execution_count": 7,
   "metadata": {
    "collapsed": true
   },
   "outputs": [],
   "source": [
    "whole[\"gender\"] = whole[\"gender\"].apply(change_gender_notation)"
   ]
  },
  {
   "cell_type": "code",
   "execution_count": 8,
   "metadata": {},
   "outputs": [
    {
     "data": {
      "text/plain": [
       "count    158681.000000\n",
       "mean         47.145310\n",
       "std         142.629468\n",
       "min           1.000000\n",
       "25%          28.000000\n",
       "50%          33.000000\n",
       "75%          42.000000\n",
       "max        2014.000000\n",
       "Name: age, dtype: float64"
      ]
     },
     "execution_count": 8,
     "metadata": {},
     "output_type": "execute_result"
    }
   ],
   "source": [
    "# Ageのデータクリーニング\n",
    "whole.age.describe()"
   ]
  },
  {
   "cell_type": "code",
   "execution_count": 9,
   "metadata": {
    "collapsed": true
   },
   "outputs": [],
   "source": [
    "# 明らかな異常値を、まずnullに置き換える。## 一連のnull置き換えを実施したのちに、medianで処理する方針\n",
    "whole.loc[whole[\"age\"] >= 2000, \"age\"]= np.nan\n",
    "whole.loc[whole[\"age\"] < 10, \"age\"] = np.nan"
   ]
  },
  {
   "cell_type": "code",
   "execution_count": 10,
   "metadata": {},
   "outputs": [
    {
     "data": {
      "text/html": [
       "<div>\n",
       "<style>\n",
       "    .dataframe thead tr:only-child th {\n",
       "        text-align: right;\n",
       "    }\n",
       "\n",
       "    .dataframe thead th {\n",
       "        text-align: left;\n",
       "    }\n",
       "\n",
       "    .dataframe tbody tr th {\n",
       "        vertical-align: top;\n",
       "    }\n",
       "</style>\n",
       "<table border=\"1\" class=\"dataframe\">\n",
       "  <thead>\n",
       "    <tr style=\"text-align: right;\">\n",
       "      <th></th>\n",
       "      <th>id</th>\n",
       "      <th>date_account_created</th>\n",
       "      <th>timestamp_first_active</th>\n",
       "      <th>date_first_booking</th>\n",
       "      <th>gender</th>\n",
       "      <th>age</th>\n",
       "      <th>signup_method</th>\n",
       "      <th>signup_flow</th>\n",
       "      <th>language</th>\n",
       "      <th>affiliate_channel</th>\n",
       "      <th>affiliate_provider</th>\n",
       "      <th>first_affiliate_tracked</th>\n",
       "      <th>signup_app</th>\n",
       "      <th>first_device_type</th>\n",
       "      <th>first_browser</th>\n",
       "      <th>country_destination</th>\n",
       "      <th>source</th>\n",
       "    </tr>\n",
       "  </thead>\n",
       "  <tbody>\n",
       "    <tr>\n",
       "      <th>41046</th>\n",
       "      <td>rm0p78riic</td>\n",
       "      <td>2012-09-15</td>\n",
       "      <td>20120915182743</td>\n",
       "      <td>2012-09-16</td>\n",
       "      <td>female</td>\n",
       "      <td>1949.0</td>\n",
       "      <td>facebook</td>\n",
       "      <td>12</td>\n",
       "      <td>en</td>\n",
       "      <td>api</td>\n",
       "      <td>other</td>\n",
       "      <td>untracked</td>\n",
       "      <td>Moweb</td>\n",
       "      <td>Windows Desktop</td>\n",
       "      <td>Chrome</td>\n",
       "      <td>US</td>\n",
       "      <td>train</td>\n",
       "    </tr>\n",
       "    <tr>\n",
       "      <th>55474</th>\n",
       "      <td>lxfw8qaa2e</td>\n",
       "      <td>2013-01-11</td>\n",
       "      <td>20130111014721</td>\n",
       "      <td>NaN</td>\n",
       "      <td>male</td>\n",
       "      <td>1931.0</td>\n",
       "      <td>basic</td>\n",
       "      <td>0</td>\n",
       "      <td>en</td>\n",
       "      <td>direct</td>\n",
       "      <td>direct</td>\n",
       "      <td>untracked</td>\n",
       "      <td>Web</td>\n",
       "      <td>Windows Desktop</td>\n",
       "      <td>IE</td>\n",
       "      <td>NDF</td>\n",
       "      <td>train</td>\n",
       "    </tr>\n",
       "    <tr>\n",
       "      <th>59537</th>\n",
       "      <td>lkgth08quo</td>\n",
       "      <td>2013-02-07</td>\n",
       "      <td>20130207231010</td>\n",
       "      <td>2013-02-08</td>\n",
       "      <td>male</td>\n",
       "      <td>1932.0</td>\n",
       "      <td>facebook</td>\n",
       "      <td>12</td>\n",
       "      <td>en</td>\n",
       "      <td>api</td>\n",
       "      <td>other</td>\n",
       "      <td>untracked</td>\n",
       "      <td>Moweb</td>\n",
       "      <td>iPhone</td>\n",
       "      <td>-unknown-</td>\n",
       "      <td>US</td>\n",
       "      <td>train</td>\n",
       "    </tr>\n",
       "    <tr>\n",
       "      <th>67223</th>\n",
       "      <td>n87aqj7mf0</td>\n",
       "      <td>2013-03-25</td>\n",
       "      <td>20130325205715</td>\n",
       "      <td>NaN</td>\n",
       "      <td>male</td>\n",
       "      <td>1932.0</td>\n",
       "      <td>facebook</td>\n",
       "      <td>12</td>\n",
       "      <td>en</td>\n",
       "      <td>api</td>\n",
       "      <td>other</td>\n",
       "      <td>untracked</td>\n",
       "      <td>Moweb</td>\n",
       "      <td>Windows Desktop</td>\n",
       "      <td>Chrome</td>\n",
       "      <td>NDF</td>\n",
       "      <td>train</td>\n",
       "    </tr>\n",
       "    <tr>\n",
       "      <th>67610</th>\n",
       "      <td>nc8fk6z69z</td>\n",
       "      <td>2013-03-27</td>\n",
       "      <td>20130327211209</td>\n",
       "      <td>2013-04-23</td>\n",
       "      <td>male</td>\n",
       "      <td>1932.0</td>\n",
       "      <td>facebook</td>\n",
       "      <td>0</td>\n",
       "      <td>en</td>\n",
       "      <td>sem-non-brand</td>\n",
       "      <td>google</td>\n",
       "      <td>omg</td>\n",
       "      <td>Web</td>\n",
       "      <td>Windows Desktop</td>\n",
       "      <td>Chrome</td>\n",
       "      <td>US</td>\n",
       "      <td>train</td>\n",
       "    </tr>\n",
       "  </tbody>\n",
       "</table>\n",
       "</div>"
      ],
      "text/plain": [
       "               id date_account_created  timestamp_first_active  \\\n",
       "41046  rm0p78riic           2012-09-15          20120915182743   \n",
       "55474  lxfw8qaa2e           2013-01-11          20130111014721   \n",
       "59537  lkgth08quo           2013-02-07          20130207231010   \n",
       "67223  n87aqj7mf0           2013-03-25          20130325205715   \n",
       "67610  nc8fk6z69z           2013-03-27          20130327211209   \n",
       "\n",
       "      date_first_booking  gender     age signup_method  signup_flow language  \\\n",
       "41046         2012-09-16  female  1949.0      facebook           12       en   \n",
       "55474                NaN    male  1931.0         basic            0       en   \n",
       "59537         2013-02-08    male  1932.0      facebook           12       en   \n",
       "67223                NaN    male  1932.0      facebook           12       en   \n",
       "67610         2013-04-23    male  1932.0      facebook            0       en   \n",
       "\n",
       "      affiliate_channel affiliate_provider first_affiliate_tracked signup_app  \\\n",
       "41046               api              other               untracked      Moweb   \n",
       "55474            direct             direct               untracked        Web   \n",
       "59537               api              other               untracked      Moweb   \n",
       "67223               api              other               untracked      Moweb   \n",
       "67610     sem-non-brand             google                     omg        Web   \n",
       "\n",
       "      first_device_type first_browser country_destination source  \n",
       "41046   Windows Desktop        Chrome                  US  train  \n",
       "55474   Windows Desktop            IE                 NDF  train  \n",
       "59537            iPhone     -unknown-                  US  train  \n",
       "67223   Windows Desktop        Chrome                 NDF  train  \n",
       "67610   Windows Desktop        Chrome                  US  train  "
      ]
     },
     "execution_count": 10,
     "metadata": {},
     "output_type": "execute_result"
    }
   ],
   "source": [
    "# 西暦年をageに入っているものは、2014から引き算をして、年齢を算出\n",
    "whole[whole[\"age\"] > 1900].head()"
   ]
  },
  {
   "cell_type": "code",
   "execution_count": 11,
   "metadata": {
    "collapsed": true
   },
   "outputs": [],
   "source": [
    "# 1900を超えているものは、誕生年とみなして、2014年時点の年齢を計算\n",
    "def age_correct(x):\n",
    "    if x > 1900.0:\n",
    "        y = 2014.0 - x\n",
    "        return y\n",
    "    else:\n",
    "        return x"
   ]
  },
  {
   "cell_type": "code",
   "execution_count": 12,
   "metadata": {
    "collapsed": true
   },
   "outputs": [],
   "source": [
    "whole[\"age\"] = whole[\"age\"].apply(age_correct)"
   ]
  },
  {
   "cell_type": "code",
   "execution_count": 13,
   "metadata": {},
   "outputs": [
    {
     "data": {
      "text/plain": [
       "count    157865.000000\n",
       "mean         36.895322\n",
       "std          13.848966\n",
       "min          15.000000\n",
       "25%          28.000000\n",
       "50%          33.000000\n",
       "75%          42.000000\n",
       "max         150.000000\n",
       "Name: age, dtype: float64"
      ]
     },
     "execution_count": 13,
     "metadata": {},
     "output_type": "execute_result"
    }
   ],
   "source": [
    "# ageの統計量を見て、最大値が適正かを確認 --- 上記の計算の結果 100歳を超える年齢が表出\n",
    "whole.age.describe()"
   ]
  },
  {
   "cell_type": "code",
   "execution_count": 14,
   "metadata": {
    "collapsed": true
   },
   "outputs": [],
   "source": [
    "# （実際はいるかもしれないが）100歳を超える年齢は異常値とみなして、再びnanに置換\n",
    "whole.loc[whole[\"age\"] > 100, \"age\"] = np.nan"
   ]
  },
  {
   "cell_type": "code",
   "execution_count": 15,
   "metadata": {},
   "outputs": [
    {
     "data": {
      "text/plain": [
       "<matplotlib.axes._subplots.AxesSubplot at 0x192ea26b710>"
      ]
     },
     "execution_count": 15,
     "metadata": {},
     "output_type": "execute_result"
    },
    {
     "data": {
      "image/png": "[encoded data removed]",
      "text/plain": [
       "<matplotlib.figure.Figure at 0x192ea255358>"
      ]
     },
     "metadata": {},
     "output_type": "display_data"
    }
   ],
   "source": [
    "whole[\"age\"].hist() #これで大丈夫そう"
   ]
  },
  {
   "cell_type": "code",
   "execution_count": 16,
   "metadata": {},
   "outputs": [
    {
     "data": {
      "text/plain": [
       "119544"
      ]
     },
     "execution_count": 16,
     "metadata": {},
     "output_type": "execute_result"
    }
   ],
   "source": [
    "# ageのnullの数をカウント\n",
    "sum(whole[\"age\"].isnull())"
   ]
  },
  {
   "cell_type": "code",
   "execution_count": 17,
   "metadata": {
    "collapsed": true
   },
   "outputs": [],
   "source": [
    "# ageのnullを中央値に変換  --- nullが119544件あるので、中央値で置き換えるのは戸惑うが、ほかに手がないので置換実行～\n",
    "whole[\"age\"] = whole[\"age\"].fillna(whole.age.median())"
   ]
  },
  {
   "cell_type": "code",
   "execution_count": 18,
   "metadata": {},
   "outputs": [
    {
     "name": "stdout",
     "output_type": "stream",
     "text": [
      "whole records: 275547 missing_records: 0\n"
     ]
    }
   ],
   "source": [
    "print(\"whole records:\", whole[\"age\"].count(), \"missing_records:\", sum(whole[\"age\"].isnull()))"
   ]
  },
  {
   "cell_type": "markdown",
   "metadata": {},
   "source": [
    "## Age_gender_dataのデータ加工"
   ]
  },
  {
   "cell_type": "code",
   "execution_count": 19,
   "metadata": {},
   "outputs": [
    {
     "data": {
      "text/html": [
       "<div>\n",
       "<style>\n",
       "    .dataframe thead tr:only-child th {\n",
       "        text-align: right;\n",
       "    }\n",
       "\n",
       "    .dataframe thead th {\n",
       "        text-align: left;\n",
       "    }\n",
       "\n",
       "    .dataframe tbody tr th {\n",
       "        vertical-align: top;\n",
       "    }\n",
       "</style>\n",
       "<table border=\"1\" class=\"dataframe\">\n",
       "  <thead>\n",
       "    <tr style=\"text-align: right;\">\n",
       "      <th></th>\n",
       "      <th>age_bucket</th>\n",
       "      <th>country_destination</th>\n",
       "      <th>gender</th>\n",
       "      <th>population_in_thousands</th>\n",
       "      <th>year</th>\n",
       "    </tr>\n",
       "  </thead>\n",
       "  <tbody>\n",
       "    <tr>\n",
       "      <th>0</th>\n",
       "      <td>100+</td>\n",
       "      <td>AU</td>\n",
       "      <td>male</td>\n",
       "      <td>1.0</td>\n",
       "      <td>2015.0</td>\n",
       "    </tr>\n",
       "    <tr>\n",
       "      <th>1</th>\n",
       "      <td>95-99</td>\n",
       "      <td>AU</td>\n",
       "      <td>male</td>\n",
       "      <td>9.0</td>\n",
       "      <td>2015.0</td>\n",
       "    </tr>\n",
       "    <tr>\n",
       "      <th>2</th>\n",
       "      <td>90-94</td>\n",
       "      <td>AU</td>\n",
       "      <td>male</td>\n",
       "      <td>47.0</td>\n",
       "      <td>2015.0</td>\n",
       "    </tr>\n",
       "    <tr>\n",
       "      <th>3</th>\n",
       "      <td>85-89</td>\n",
       "      <td>AU</td>\n",
       "      <td>male</td>\n",
       "      <td>118.0</td>\n",
       "      <td>2015.0</td>\n",
       "    </tr>\n",
       "    <tr>\n",
       "      <th>4</th>\n",
       "      <td>80-84</td>\n",
       "      <td>AU</td>\n",
       "      <td>male</td>\n",
       "      <td>199.0</td>\n",
       "      <td>2015.0</td>\n",
       "    </tr>\n",
       "  </tbody>\n",
       "</table>\n",
       "</div>"
      ],
      "text/plain": [
       "  age_bucket country_destination gender  population_in_thousands    year\n",
       "0       100+                  AU   male                      1.0  2015.0\n",
       "1      95-99                  AU   male                      9.0  2015.0\n",
       "2      90-94                  AU   male                     47.0  2015.0\n",
       "3      85-89                  AU   male                    118.0  2015.0\n",
       "4      80-84                  AU   male                    199.0  2015.0"
      ]
     },
     "execution_count": 19,
     "metadata": {},
     "output_type": "execute_result"
    }
   ],
   "source": [
    "age_gender_data.head()"
   ]
  },
  {
   "cell_type": "code",
   "execution_count": 20,
   "metadata": {},
   "outputs": [],
   "source": [
    "# yearのカラムは不要なので削除\n",
    "age_gender_data = age_gender_data.drop('year', axis=1)"
   ]
  },
  {
   "cell_type": "code",
   "execution_count": 21,
   "metadata": {},
   "outputs": [
    {
     "data": {
      "text/html": [
       "<div>\n",
       "<style>\n",
       "    .dataframe thead tr:only-child th {\n",
       "        text-align: right;\n",
       "    }\n",
       "\n",
       "    .dataframe thead th {\n",
       "        text-align: left;\n",
       "    }\n",
       "\n",
       "    .dataframe tbody tr th {\n",
       "        vertical-align: top;\n",
       "    }\n",
       "</style>\n",
       "<table border=\"1\" class=\"dataframe\">\n",
       "  <thead>\n",
       "    <tr style=\"text-align: right;\">\n",
       "      <th></th>\n",
       "      <th>age_bucket</th>\n",
       "      <th>gender</th>\n",
       "      <th>population_in_thousands</th>\n",
       "      <th>country_destination_AU</th>\n",
       "      <th>country_destination_CA</th>\n",
       "      <th>country_destination_DE</th>\n",
       "      <th>country_destination_ES</th>\n",
       "      <th>country_destination_FR</th>\n",
       "      <th>country_destination_GB</th>\n",
       "      <th>country_destination_IT</th>\n",
       "      <th>country_destination_NL</th>\n",
       "      <th>country_destination_PT</th>\n",
       "      <th>country_destination_US</th>\n",
       "    </tr>\n",
       "  </thead>\n",
       "  <tbody>\n",
       "    <tr>\n",
       "      <th>0</th>\n",
       "      <td>100+</td>\n",
       "      <td>male</td>\n",
       "      <td>1.0</td>\n",
       "      <td>1</td>\n",
       "      <td>0</td>\n",
       "      <td>0</td>\n",
       "      <td>0</td>\n",
       "      <td>0</td>\n",
       "      <td>0</td>\n",
       "      <td>0</td>\n",
       "      <td>0</td>\n",
       "      <td>0</td>\n",
       "      <td>0</td>\n",
       "    </tr>\n",
       "    <tr>\n",
       "      <th>1</th>\n",
       "      <td>95-99</td>\n",
       "      <td>male</td>\n",
       "      <td>9.0</td>\n",
       "      <td>1</td>\n",
       "      <td>0</td>\n",
       "      <td>0</td>\n",
       "      <td>0</td>\n",
       "      <td>0</td>\n",
       "      <td>0</td>\n",
       "      <td>0</td>\n",
       "      <td>0</td>\n",
       "      <td>0</td>\n",
       "      <td>0</td>\n",
       "    </tr>\n",
       "    <tr>\n",
       "      <th>2</th>\n",
       "      <td>90-94</td>\n",
       "      <td>male</td>\n",
       "      <td>47.0</td>\n",
       "      <td>1</td>\n",
       "      <td>0</td>\n",
       "      <td>0</td>\n",
       "      <td>0</td>\n",
       "      <td>0</td>\n",
       "      <td>0</td>\n",
       "      <td>0</td>\n",
       "      <td>0</td>\n",
       "      <td>0</td>\n",
       "      <td>0</td>\n",
       "    </tr>\n",
       "    <tr>\n",
       "      <th>3</th>\n",
       "      <td>85-89</td>\n",
       "      <td>male</td>\n",
       "      <td>118.0</td>\n",
       "      <td>1</td>\n",
       "      <td>0</td>\n",
       "      <td>0</td>\n",
       "      <td>0</td>\n",
       "      <td>0</td>\n",
       "      <td>0</td>\n",
       "      <td>0</td>\n",
       "      <td>0</td>\n",
       "      <td>0</td>\n",
       "      <td>0</td>\n",
       "    </tr>\n",
       "    <tr>\n",
       "      <th>4</th>\n",
       "      <td>80-84</td>\n",
       "      <td>male</td>\n",
       "      <td>199.0</td>\n",
       "      <td>1</td>\n",
       "      <td>0</td>\n",
       "      <td>0</td>\n",
       "      <td>0</td>\n",
       "      <td>0</td>\n",
       "      <td>0</td>\n",
       "      <td>0</td>\n",
       "      <td>0</td>\n",
       "      <td>0</td>\n",
       "      <td>0</td>\n",
       "    </tr>\n",
       "  </tbody>\n",
       "</table>\n",
       "</div>"
      ],
      "text/plain": [
       "  age_bucket gender  population_in_thousands  country_destination_AU  \\\n",
       "0       100+   male                      1.0                       1   \n",
       "1      95-99   male                      9.0                       1   \n",
       "2      90-94   male                     47.0                       1   \n",
       "3      85-89   male                    118.0                       1   \n",
       "4      80-84   male                    199.0                       1   \n",
       "\n",
       "   country_destination_CA  country_destination_DE  country_destination_ES  \\\n",
       "0                       0                       0                       0   \n",
       "1                       0                       0                       0   \n",
       "2                       0                       0                       0   \n",
       "3                       0                       0                       0   \n",
       "4                       0                       0                       0   \n",
       "\n",
       "   country_destination_FR  country_destination_GB  country_destination_IT  \\\n",
       "0                       0                       0                       0   \n",
       "1                       0                       0                       0   \n",
       "2                       0                       0                       0   \n",
       "3                       0                       0                       0   \n",
       "4                       0                       0                       0   \n",
       "\n",
       "   country_destination_NL  country_destination_PT  country_destination_US  \n",
       "0                       0                       0                       0  \n",
       "1                       0                       0                       0  \n",
       "2                       0                       0                       0  \n",
       "3                       0                       0                       0  \n",
       "4                       0                       0                       0  "
      ]
     },
     "execution_count": 21,
     "metadata": {},
     "output_type": "execute_result"
    }
   ],
   "source": [
    "# population_in_thousandsを横持ちにするために、まずcountry_destinationをダミー変数に置換\n",
    "age_gender_data = pd.get_dummies(data = age_gender_data, columns = [\"country_destination\"])\n",
    "age_gender_data.head()"
   ]
  },
  {
   "cell_type": "code",
   "execution_count": 22,
   "metadata": {
    "collapsed": true
   },
   "outputs": [],
   "source": [
    "# Population_in_thousandsをダミー変数にかける\n",
    "extract_cols = age_gender_data.columns[3:]"
   ]
  },
  {
   "cell_type": "code",
   "execution_count": 23,
   "metadata": {
    "collapsed": true
   },
   "outputs": [],
   "source": [
    "for col in extract_cols:\n",
    "    age_gender_data[col] = age_gender_data[col] * age_gender_data['population_in_thousands']"
   ]
  },
  {
   "cell_type": "code",
   "execution_count": 24,
   "metadata": {},
   "outputs": [
    {
     "data": {
      "text/html": [
       "<div>\n",
       "<style>\n",
       "    .dataframe thead tr:only-child th {\n",
       "        text-align: right;\n",
       "    }\n",
       "\n",
       "    .dataframe thead th {\n",
       "        text-align: left;\n",
       "    }\n",
       "\n",
       "    .dataframe tbody tr th {\n",
       "        vertical-align: top;\n",
       "    }\n",
       "</style>\n",
       "<table border=\"1\" class=\"dataframe\">\n",
       "  <thead>\n",
       "    <tr style=\"text-align: right;\">\n",
       "      <th></th>\n",
       "      <th>age_bucket</th>\n",
       "      <th>gender</th>\n",
       "      <th>population_in_thousands</th>\n",
       "      <th>country_destination_AU</th>\n",
       "      <th>country_destination_CA</th>\n",
       "      <th>country_destination_DE</th>\n",
       "      <th>country_destination_ES</th>\n",
       "      <th>country_destination_FR</th>\n",
       "      <th>country_destination_GB</th>\n",
       "      <th>country_destination_IT</th>\n",
       "      <th>country_destination_NL</th>\n",
       "      <th>country_destination_PT</th>\n",
       "      <th>country_destination_US</th>\n",
       "    </tr>\n",
       "  </thead>\n",
       "  <tbody>\n",
       "    <tr>\n",
       "      <th>0</th>\n",
       "      <td>0-4</td>\n",
       "      <td>female</td>\n",
       "      <td>20861.0</td>\n",
       "      <td>781.0</td>\n",
       "      <td>991.0</td>\n",
       "      <td>1713.0</td>\n",
       "      <td>1198.0</td>\n",
       "      <td>1938.0</td>\n",
       "      <td>1888.0</td>\n",
       "      <td>1383.0</td>\n",
       "      <td>438.0</td>\n",
       "      <td>225.0</td>\n",
       "      <td>10306.0</td>\n",
       "    </tr>\n",
       "    <tr>\n",
       "      <th>1</th>\n",
       "      <td>0-4</td>\n",
       "      <td>male</td>\n",
       "      <td>21925.0</td>\n",
       "      <td>824.0</td>\n",
       "      <td>1045.0</td>\n",
       "      <td>1811.0</td>\n",
       "      <td>1272.0</td>\n",
       "      <td>2035.0</td>\n",
       "      <td>1981.0</td>\n",
       "      <td>1468.0</td>\n",
       "      <td>462.0</td>\n",
       "      <td>239.0</td>\n",
       "      <td>10788.0</td>\n",
       "    </tr>\n",
       "    <tr>\n",
       "      <th>2</th>\n",
       "      <td>10-14</td>\n",
       "      <td>female</td>\n",
       "      <td>20640.0</td>\n",
       "      <td>707.0</td>\n",
       "      <td>929.0</td>\n",
       "      <td>1800.0</td>\n",
       "      <td>1124.0</td>\n",
       "      <td>1894.0</td>\n",
       "      <td>1690.0</td>\n",
       "      <td>1388.0</td>\n",
       "      <td>493.0</td>\n",
       "      <td>269.0</td>\n",
       "      <td>10346.0</td>\n",
       "    </tr>\n",
       "    <tr>\n",
       "      <th>3</th>\n",
       "      <td>10-14</td>\n",
       "      <td>male</td>\n",
       "      <td>21604.0</td>\n",
       "      <td>743.0</td>\n",
       "      <td>983.0</td>\n",
       "      <td>1892.0</td>\n",
       "      <td>1189.0</td>\n",
       "      <td>1985.0</td>\n",
       "      <td>1771.0</td>\n",
       "      <td>1468.0</td>\n",
       "      <td>517.0</td>\n",
       "      <td>285.0</td>\n",
       "      <td>10771.0</td>\n",
       "    </tr>\n",
       "    <tr>\n",
       "      <th>4</th>\n",
       "      <td>100+</td>\n",
       "      <td>female</td>\n",
       "      <td>145.0</td>\n",
       "      <td>4.0</td>\n",
       "      <td>7.0</td>\n",
       "      <td>14.0</td>\n",
       "      <td>9.0</td>\n",
       "      <td>19.0</td>\n",
       "      <td>13.0</td>\n",
       "      <td>15.0</td>\n",
       "      <td>2.0</td>\n",
       "      <td>1.0</td>\n",
       "      <td>61.0</td>\n",
       "    </tr>\n",
       "  </tbody>\n",
       "</table>\n",
       "</div>"
      ],
      "text/plain": [
       "  age_bucket  gender  population_in_thousands  country_destination_AU  \\\n",
       "0        0-4  female                  20861.0                   781.0   \n",
       "1        0-4    male                  21925.0                   824.0   \n",
       "2      10-14  female                  20640.0                   707.0   \n",
       "3      10-14    male                  21604.0                   743.0   \n",
       "4       100+  female                    145.0                     4.0   \n",
       "\n",
       "   country_destination_CA  country_destination_DE  country_destination_ES  \\\n",
       "0                   991.0                  1713.0                  1198.0   \n",
       "1                  1045.0                  1811.0                  1272.0   \n",
       "2                   929.0                  1800.0                  1124.0   \n",
       "3                   983.0                  1892.0                  1189.0   \n",
       "4                     7.0                    14.0                     9.0   \n",
       "\n",
       "   country_destination_FR  country_destination_GB  country_destination_IT  \\\n",
       "0                  1938.0                  1888.0                  1383.0   \n",
       "1                  2035.0                  1981.0                  1468.0   \n",
       "2                  1894.0                  1690.0                  1388.0   \n",
       "3                  1985.0                  1771.0                  1468.0   \n",
       "4                    19.0                    13.0                    15.0   \n",
       "\n",
       "   country_destination_NL  country_destination_PT  country_destination_US  \n",
       "0                   438.0                   225.0                 10306.0  \n",
       "1                   462.0                   239.0                 10788.0  \n",
       "2                   493.0                   269.0                 10346.0  \n",
       "3                   517.0                   285.0                 10771.0  \n",
       "4                     2.0                     1.0                    61.0  "
      ]
     },
     "execution_count": 24,
     "metadata": {},
     "output_type": "execute_result"
    }
   ],
   "source": [
    "# 無駄な行があるので、レコード集計を実施\n",
    "age_gender_data = age_gender_data.groupby([\"age_bucket\", \"gender\"]).sum().reset_index()\n",
    "age_gender_data.head()"
   ]
  },
  {
   "cell_type": "code",
   "execution_count": 25,
   "metadata": {
    "collapsed": true
   },
   "outputs": [],
   "source": [
    "# gender -unknown- にぶつける行を作るため、genderのカラムをdropしたテーブルを作る\n",
    "age_gender_data_mod = age_gender_data.drop('gender', axis=1)"
   ]
  },
  {
   "cell_type": "code",
   "execution_count": 26,
   "metadata": {
    "collapsed": true
   },
   "outputs": [],
   "source": [
    "# age_bucketのみでgroupbyを実行\n",
    "age_gender_data_mod = age_gender_data_mod.groupby([\"age_bucket\"]).sum().reset_index()"
   ]
  },
  {
   "cell_type": "code",
   "execution_count": 27,
   "metadata": {
    "collapsed": true
   },
   "outputs": [],
   "source": [
    "# 作成したデータに、unknownの値を持つgender列を作成\n",
    "age_gender_data_mod[\"gender\"] = \"-unknown-\""
   ]
  },
  {
   "cell_type": "code",
   "execution_count": 28,
   "metadata": {
    "collapsed": true
   },
   "outputs": [],
   "source": [
    "# female/male毎に集計した先ほどのデータにunionする\n",
    "age_gender_data = pd.concat([age_gender_data, age_gender_data_mod], axis=0)   #[ ] を忘れないこと~ "
   ]
  },
  {
   "cell_type": "markdown",
   "metadata": {},
   "source": [
    "## wholeデータとage_gender_dataの結合"
   ]
  },
  {
   "cell_type": "code",
   "execution_count": 29,
   "metadata": {},
   "outputs": [
    {
     "data": {
      "text/html": [
       "<div>\n",
       "<style>\n",
       "    .dataframe thead tr:only-child th {\n",
       "        text-align: right;\n",
       "    }\n",
       "\n",
       "    .dataframe thead th {\n",
       "        text-align: left;\n",
       "    }\n",
       "\n",
       "    .dataframe tbody tr th {\n",
       "        vertical-align: top;\n",
       "    }\n",
       "</style>\n",
       "<table border=\"1\" class=\"dataframe\">\n",
       "  <thead>\n",
       "    <tr style=\"text-align: right;\">\n",
       "      <th></th>\n",
       "      <th>id</th>\n",
       "      <th>date_account_created</th>\n",
       "      <th>timestamp_first_active</th>\n",
       "      <th>date_first_booking</th>\n",
       "      <th>gender</th>\n",
       "      <th>age</th>\n",
       "      <th>signup_method</th>\n",
       "      <th>signup_flow</th>\n",
       "      <th>language</th>\n",
       "      <th>affiliate_channel</th>\n",
       "      <th>affiliate_provider</th>\n",
       "      <th>first_affiliate_tracked</th>\n",
       "      <th>signup_app</th>\n",
       "      <th>first_device_type</th>\n",
       "      <th>first_browser</th>\n",
       "      <th>country_destination</th>\n",
       "      <th>source</th>\n",
       "    </tr>\n",
       "  </thead>\n",
       "  <tbody>\n",
       "    <tr>\n",
       "      <th>0</th>\n",
       "      <td>gxn3p5htnn</td>\n",
       "      <td>2010-06-28</td>\n",
       "      <td>20090319043255</td>\n",
       "      <td>NaN</td>\n",
       "      <td>-unknown-</td>\n",
       "      <td>33.0</td>\n",
       "      <td>facebook</td>\n",
       "      <td>0</td>\n",
       "      <td>en</td>\n",
       "      <td>direct</td>\n",
       "      <td>direct</td>\n",
       "      <td>untracked</td>\n",
       "      <td>Web</td>\n",
       "      <td>Mac Desktop</td>\n",
       "      <td>Chrome</td>\n",
       "      <td>NDF</td>\n",
       "      <td>train</td>\n",
       "    </tr>\n",
       "    <tr>\n",
       "      <th>1</th>\n",
       "      <td>820tgsjxq7</td>\n",
       "      <td>2011-05-25</td>\n",
       "      <td>20090523174809</td>\n",
       "      <td>NaN</td>\n",
       "      <td>male</td>\n",
       "      <td>38.0</td>\n",
       "      <td>facebook</td>\n",
       "      <td>0</td>\n",
       "      <td>en</td>\n",
       "      <td>seo</td>\n",
       "      <td>google</td>\n",
       "      <td>untracked</td>\n",
       "      <td>Web</td>\n",
       "      <td>Mac Desktop</td>\n",
       "      <td>Chrome</td>\n",
       "      <td>NDF</td>\n",
       "      <td>train</td>\n",
       "    </tr>\n",
       "    <tr>\n",
       "      <th>2</th>\n",
       "      <td>4ft3gnwmtx</td>\n",
       "      <td>2010-09-28</td>\n",
       "      <td>20090609231247</td>\n",
       "      <td>2010-08-02</td>\n",
       "      <td>female</td>\n",
       "      <td>56.0</td>\n",
       "      <td>basic</td>\n",
       "      <td>3</td>\n",
       "      <td>en</td>\n",
       "      <td>direct</td>\n",
       "      <td>direct</td>\n",
       "      <td>untracked</td>\n",
       "      <td>Web</td>\n",
       "      <td>Windows Desktop</td>\n",
       "      <td>IE</td>\n",
       "      <td>US</td>\n",
       "      <td>train</td>\n",
       "    </tr>\n",
       "    <tr>\n",
       "      <th>3</th>\n",
       "      <td>bjjt8pjhuk</td>\n",
       "      <td>2011-12-05</td>\n",
       "      <td>20091031060129</td>\n",
       "      <td>2012-09-08</td>\n",
       "      <td>female</td>\n",
       "      <td>42.0</td>\n",
       "      <td>facebook</td>\n",
       "      <td>0</td>\n",
       "      <td>en</td>\n",
       "      <td>direct</td>\n",
       "      <td>direct</td>\n",
       "      <td>untracked</td>\n",
       "      <td>Web</td>\n",
       "      <td>Mac Desktop</td>\n",
       "      <td>Firefox</td>\n",
       "      <td>other</td>\n",
       "      <td>train</td>\n",
       "    </tr>\n",
       "    <tr>\n",
       "      <th>4</th>\n",
       "      <td>87mebub9p4</td>\n",
       "      <td>2010-09-14</td>\n",
       "      <td>20091208061105</td>\n",
       "      <td>2010-02-18</td>\n",
       "      <td>-unknown-</td>\n",
       "      <td>41.0</td>\n",
       "      <td>basic</td>\n",
       "      <td>0</td>\n",
       "      <td>en</td>\n",
       "      <td>direct</td>\n",
       "      <td>direct</td>\n",
       "      <td>untracked</td>\n",
       "      <td>Web</td>\n",
       "      <td>Mac Desktop</td>\n",
       "      <td>Chrome</td>\n",
       "      <td>US</td>\n",
       "      <td>train</td>\n",
       "    </tr>\n",
       "  </tbody>\n",
       "</table>\n",
       "</div>"
      ],
      "text/plain": [
       "           id date_account_created  timestamp_first_active date_first_booking  \\\n",
       "0  gxn3p5htnn           2010-06-28          20090319043255                NaN   \n",
       "1  820tgsjxq7           2011-05-25          20090523174809                NaN   \n",
       "2  4ft3gnwmtx           2010-09-28          20090609231247         2010-08-02   \n",
       "3  bjjt8pjhuk           2011-12-05          20091031060129         2012-09-08   \n",
       "4  87mebub9p4           2010-09-14          20091208061105         2010-02-18   \n",
       "\n",
       "      gender   age signup_method  signup_flow language affiliate_channel  \\\n",
       "0  -unknown-  33.0      facebook            0       en            direct   \n",
       "1       male  38.0      facebook            0       en               seo   \n",
       "2     female  56.0         basic            3       en            direct   \n",
       "3     female  42.0      facebook            0       en            direct   \n",
       "4  -unknown-  41.0         basic            0       en            direct   \n",
       "\n",
       "  affiliate_provider first_affiliate_tracked signup_app first_device_type  \\\n",
       "0             direct               untracked        Web       Mac Desktop   \n",
       "1             google               untracked        Web       Mac Desktop   \n",
       "2             direct               untracked        Web   Windows Desktop   \n",
       "3             direct               untracked        Web       Mac Desktop   \n",
       "4             direct               untracked        Web       Mac Desktop   \n",
       "\n",
       "  first_browser country_destination source  \n",
       "0        Chrome                 NDF  train  \n",
       "1        Chrome                 NDF  train  \n",
       "2            IE                  US  train  \n",
       "3       Firefox               other  train  \n",
       "4        Chrome                  US  train  "
      ]
     },
     "execution_count": 29,
     "metadata": {},
     "output_type": "execute_result"
    }
   ],
   "source": [
    "whole.head()"
   ]
  },
  {
   "cell_type": "code",
   "execution_count": 30,
   "metadata": {},
   "outputs": [
    {
     "data": {
      "text/plain": [
       "{'0-4',\n",
       " '10-14',\n",
       " '100+',\n",
       " '15-19',\n",
       " '20-24',\n",
       " '25-29',\n",
       " '30-34',\n",
       " '35-39',\n",
       " '40-44',\n",
       " '45-49',\n",
       " '5-9',\n",
       " '50-54',\n",
       " '55-59',\n",
       " '60-64',\n",
       " '65-69',\n",
       " '70-74',\n",
       " '75-79',\n",
       " '80-84',\n",
       " '85-89',\n",
       " '90-94',\n",
       " '95-99'}"
      ]
     },
     "execution_count": 30,
     "metadata": {},
     "output_type": "execute_result"
    }
   ],
   "source": [
    "set(age_gender_data[\"age_bucket\"])"
   ]
  },
  {
   "cell_type": "code",
   "execution_count": 31,
   "metadata": {
    "collapsed": true
   },
   "outputs": [],
   "source": [
    "# age_genderデータのage_bucketは扱いづらいので、min値を取り出して、新しいカラムを作る\n",
    "def get_left_num(x):\n",
    "    x_len = len(x)\n",
    "    if x_len ==3:\n",
    "        return int(x[0])\n",
    "    elif x_len == 5:\n",
    "        return int(x[:2])\n",
    "    elif x_len == 4:\n",
    "        return int(x[:3]) + 1\n",
    "    else:\n",
    "        return 999"
   ]
  },
  {
   "cell_type": "code",
   "execution_count": 32,
   "metadata": {
    "collapsed": true
   },
   "outputs": [],
   "source": [
    "age_gender_data[\"age_min_key\"] = age_gender_data[\"age_bucket\"].apply(get_left_num)"
   ]
  },
  {
   "cell_type": "code",
   "execution_count": 33,
   "metadata": {},
   "outputs": [
    {
     "data": {
      "text/html": [
       "<div>\n",
       "<style>\n",
       "    .dataframe thead tr:only-child th {\n",
       "        text-align: right;\n",
       "    }\n",
       "\n",
       "    .dataframe thead th {\n",
       "        text-align: left;\n",
       "    }\n",
       "\n",
       "    .dataframe tbody tr th {\n",
       "        vertical-align: top;\n",
       "    }\n",
       "</style>\n",
       "<table border=\"1\" class=\"dataframe\">\n",
       "  <thead>\n",
       "    <tr style=\"text-align: right;\">\n",
       "      <th></th>\n",
       "      <th>age_bucket</th>\n",
       "      <th>country_destination_AU</th>\n",
       "      <th>country_destination_CA</th>\n",
       "      <th>country_destination_DE</th>\n",
       "      <th>country_destination_ES</th>\n",
       "      <th>country_destination_FR</th>\n",
       "      <th>country_destination_GB</th>\n",
       "      <th>country_destination_IT</th>\n",
       "      <th>country_destination_NL</th>\n",
       "      <th>country_destination_PT</th>\n",
       "      <th>country_destination_US</th>\n",
       "      <th>gender</th>\n",
       "      <th>population_in_thousands</th>\n",
       "      <th>age_min_key</th>\n",
       "    </tr>\n",
       "  </thead>\n",
       "  <tbody>\n",
       "    <tr>\n",
       "      <th>0</th>\n",
       "      <td>0-4</td>\n",
       "      <td>781.0</td>\n",
       "      <td>991.0</td>\n",
       "      <td>1713.0</td>\n",
       "      <td>1198.0</td>\n",
       "      <td>1938.0</td>\n",
       "      <td>1888.0</td>\n",
       "      <td>1383.0</td>\n",
       "      <td>438.0</td>\n",
       "      <td>225.0</td>\n",
       "      <td>10306.0</td>\n",
       "      <td>female</td>\n",
       "      <td>20861.0</td>\n",
       "      <td>0</td>\n",
       "    </tr>\n",
       "    <tr>\n",
       "      <th>1</th>\n",
       "      <td>0-4</td>\n",
       "      <td>824.0</td>\n",
       "      <td>1045.0</td>\n",
       "      <td>1811.0</td>\n",
       "      <td>1272.0</td>\n",
       "      <td>2035.0</td>\n",
       "      <td>1981.0</td>\n",
       "      <td>1468.0</td>\n",
       "      <td>462.0</td>\n",
       "      <td>239.0</td>\n",
       "      <td>10788.0</td>\n",
       "      <td>male</td>\n",
       "      <td>21925.0</td>\n",
       "      <td>0</td>\n",
       "    </tr>\n",
       "    <tr>\n",
       "      <th>2</th>\n",
       "      <td>10-14</td>\n",
       "      <td>707.0</td>\n",
       "      <td>929.0</td>\n",
       "      <td>1800.0</td>\n",
       "      <td>1124.0</td>\n",
       "      <td>1894.0</td>\n",
       "      <td>1690.0</td>\n",
       "      <td>1388.0</td>\n",
       "      <td>493.0</td>\n",
       "      <td>269.0</td>\n",
       "      <td>10346.0</td>\n",
       "      <td>female</td>\n",
       "      <td>20640.0</td>\n",
       "      <td>10</td>\n",
       "    </tr>\n",
       "    <tr>\n",
       "      <th>3</th>\n",
       "      <td>10-14</td>\n",
       "      <td>743.0</td>\n",
       "      <td>983.0</td>\n",
       "      <td>1892.0</td>\n",
       "      <td>1189.0</td>\n",
       "      <td>1985.0</td>\n",
       "      <td>1771.0</td>\n",
       "      <td>1468.0</td>\n",
       "      <td>517.0</td>\n",
       "      <td>285.0</td>\n",
       "      <td>10771.0</td>\n",
       "      <td>male</td>\n",
       "      <td>21604.0</td>\n",
       "      <td>10</td>\n",
       "    </tr>\n",
       "    <tr>\n",
       "      <th>4</th>\n",
       "      <td>100+</td>\n",
       "      <td>4.0</td>\n",
       "      <td>7.0</td>\n",
       "      <td>14.0</td>\n",
       "      <td>9.0</td>\n",
       "      <td>19.0</td>\n",
       "      <td>13.0</td>\n",
       "      <td>15.0</td>\n",
       "      <td>2.0</td>\n",
       "      <td>1.0</td>\n",
       "      <td>61.0</td>\n",
       "      <td>female</td>\n",
       "      <td>145.0</td>\n",
       "      <td>101</td>\n",
       "    </tr>\n",
       "  </tbody>\n",
       "</table>\n",
       "</div>"
      ],
      "text/plain": [
       "  age_bucket  country_destination_AU  country_destination_CA  \\\n",
       "0        0-4                   781.0                   991.0   \n",
       "1        0-4                   824.0                  1045.0   \n",
       "2      10-14                   707.0                   929.0   \n",
       "3      10-14                   743.0                   983.0   \n",
       "4       100+                     4.0                     7.0   \n",
       "\n",
       "   country_destination_DE  country_destination_ES  country_destination_FR  \\\n",
       "0                  1713.0                  1198.0                  1938.0   \n",
       "1                  1811.0                  1272.0                  2035.0   \n",
       "2                  1800.0                  1124.0                  1894.0   \n",
       "3                  1892.0                  1189.0                  1985.0   \n",
       "4                    14.0                     9.0                    19.0   \n",
       "\n",
       "   country_destination_GB  country_destination_IT  country_destination_NL  \\\n",
       "0                  1888.0                  1383.0                   438.0   \n",
       "1                  1981.0                  1468.0                   462.0   \n",
       "2                  1690.0                  1388.0                   493.0   \n",
       "3                  1771.0                  1468.0                   517.0   \n",
       "4                    13.0                    15.0                     2.0   \n",
       "\n",
       "   country_destination_PT  country_destination_US  gender  \\\n",
       "0                   225.0                 10306.0  female   \n",
       "1                   239.0                 10788.0    male   \n",
       "2                   269.0                 10346.0  female   \n",
       "3                   285.0                 10771.0    male   \n",
       "4                     1.0                    61.0  female   \n",
       "\n",
       "   population_in_thousands  age_min_key  \n",
       "0                  20861.0            0  \n",
       "1                  21925.0            0  \n",
       "2                  20640.0           10  \n",
       "3                  21604.0           10  \n",
       "4                    145.0          101  "
      ]
     },
     "execution_count": 33,
     "metadata": {},
     "output_type": "execute_result"
    }
   ],
   "source": [
    "age_gender_data.head()"
   ]
  },
  {
   "cell_type": "code",
   "execution_count": 35,
   "metadata": {
    "collapsed": true
   },
   "outputs": [],
   "source": [
    "# 今度は、wholeに対して、age_min_keyを作成する\n",
    "val_list = np.unique(age_gender_data[\"age_min_key\"])  ##searchsortedの引数に、setが使えなかったので、np.uniqueを使った"
   ]
  },
  {
   "cell_type": "code",
   "execution_count": 36,
   "metadata": {
    "collapsed": true
   },
   "outputs": [],
   "source": [
    "arr = np.array(val_list)"
   ]
  },
  {
   "cell_type": "code",
   "execution_count": 37,
   "metadata": {
    "collapsed": true
   },
   "outputs": [],
   "source": [
    "whole[\"age_min_key\"] = arr[arr.searchsorted(whole[\"age\"])-1] \n",
    "# searchsortedはインデックスを返すので、arrの中の添え字にして値を取り出す"
   ]
  },
  {
   "cell_type": "code",
   "execution_count": 38,
   "metadata": {},
   "outputs": [
    {
     "data": {
      "text/plain": [
       "(275547, 18)"
      ]
     },
     "execution_count": 38,
     "metadata": {},
     "output_type": "execute_result"
    }
   ],
   "source": [
    "whole.head()\n",
    "whole.shape"
   ]
  },
  {
   "cell_type": "code",
   "execution_count": 39,
   "metadata": {
    "collapsed": true
   },
   "outputs": [],
   "source": [
    "# genderと、上記で作成したage_min_keyを軸にして、age_gender_dataとwholeを結合\n",
    "whole = pd.merge(whole, age_gender_data, on=['age_min_key', 'gender'], how='left')"
   ]
  },
  {
   "cell_type": "code",
   "execution_count": 40,
   "metadata": {},
   "outputs": [
    {
     "data": {
      "text/html": [
       "<div>\n",
       "<style>\n",
       "    .dataframe thead tr:only-child th {\n",
       "        text-align: right;\n",
       "    }\n",
       "\n",
       "    .dataframe thead th {\n",
       "        text-align: left;\n",
       "    }\n",
       "\n",
       "    .dataframe tbody tr th {\n",
       "        vertical-align: top;\n",
       "    }\n",
       "</style>\n",
       "<table border=\"1\" class=\"dataframe\">\n",
       "  <thead>\n",
       "    <tr style=\"text-align: right;\">\n",
       "      <th></th>\n",
       "      <th>id</th>\n",
       "      <th>date_account_created</th>\n",
       "      <th>timestamp_first_active</th>\n",
       "      <th>date_first_booking</th>\n",
       "      <th>gender</th>\n",
       "      <th>age</th>\n",
       "      <th>signup_method</th>\n",
       "      <th>signup_flow</th>\n",
       "      <th>language</th>\n",
       "      <th>affiliate_channel</th>\n",
       "      <th>...</th>\n",
       "      <th>country_destination_CA</th>\n",
       "      <th>country_destination_DE</th>\n",
       "      <th>country_destination_ES</th>\n",
       "      <th>country_destination_FR</th>\n",
       "      <th>country_destination_GB</th>\n",
       "      <th>country_destination_IT</th>\n",
       "      <th>country_destination_NL</th>\n",
       "      <th>country_destination_PT</th>\n",
       "      <th>country_destination_US</th>\n",
       "      <th>population_in_thousands</th>\n",
       "    </tr>\n",
       "  </thead>\n",
       "  <tbody>\n",
       "    <tr>\n",
       "      <th>0</th>\n",
       "      <td>gxn3p5htnn</td>\n",
       "      <td>2010-06-28</td>\n",
       "      <td>20090319043255</td>\n",
       "      <td>NaN</td>\n",
       "      <td>-unknown-</td>\n",
       "      <td>33.0</td>\n",
       "      <td>facebook</td>\n",
       "      <td>0</td>\n",
       "      <td>en</td>\n",
       "      <td>direct</td>\n",
       "      <td>...</td>\n",
       "      <td>2502.0</td>\n",
       "      <td>5198.0</td>\n",
       "      <td>3394.0</td>\n",
       "      <td>4081.0</td>\n",
       "      <td>4302.0</td>\n",
       "      <td>3605.0</td>\n",
       "      <td>1000.0</td>\n",
       "      <td>733.0</td>\n",
       "      <td>21847.0</td>\n",
       "      <td>48408.0</td>\n",
       "    </tr>\n",
       "    <tr>\n",
       "      <th>1</th>\n",
       "      <td>820tgsjxq7</td>\n",
       "      <td>2011-05-25</td>\n",
       "      <td>20090523174809</td>\n",
       "      <td>NaN</td>\n",
       "      <td>male</td>\n",
       "      <td>38.0</td>\n",
       "      <td>facebook</td>\n",
       "      <td>0</td>\n",
       "      <td>en</td>\n",
       "      <td>seo</td>\n",
       "      <td>...</td>\n",
       "      <td>1189.0</td>\n",
       "      <td>2448.0</td>\n",
       "      <td>2117.0</td>\n",
       "      <td>1842.0</td>\n",
       "      <td>1979.0</td>\n",
       "      <td>2117.0</td>\n",
       "      <td>490.0</td>\n",
       "      <td>419.0</td>\n",
       "      <td>10329.0</td>\n",
       "      <td>23727.0</td>\n",
       "    </tr>\n",
       "    <tr>\n",
       "      <th>2</th>\n",
       "      <td>4ft3gnwmtx</td>\n",
       "      <td>2010-09-28</td>\n",
       "      <td>20090609231247</td>\n",
       "      <td>2010-08-02</td>\n",
       "      <td>female</td>\n",
       "      <td>56.0</td>\n",
       "      <td>basic</td>\n",
       "      <td>3</td>\n",
       "      <td>en</td>\n",
       "      <td>direct</td>\n",
       "      <td>...</td>\n",
       "      <td>1305.0</td>\n",
       "      <td>2996.0</td>\n",
       "      <td>1531.0</td>\n",
       "      <td>2125.0</td>\n",
       "      <td>1991.0</td>\n",
       "      <td>2069.0</td>\n",
       "      <td>580.0</td>\n",
       "      <td>366.0</td>\n",
       "      <td>11264.0</td>\n",
       "      <td>24966.0</td>\n",
       "    </tr>\n",
       "    <tr>\n",
       "      <th>3</th>\n",
       "      <td>bjjt8pjhuk</td>\n",
       "      <td>2011-12-05</td>\n",
       "      <td>20091031060129</td>\n",
       "      <td>2012-09-08</td>\n",
       "      <td>female</td>\n",
       "      <td>42.0</td>\n",
       "      <td>facebook</td>\n",
       "      <td>0</td>\n",
       "      <td>en</td>\n",
       "      <td>direct</td>\n",
       "      <td>...</td>\n",
       "      <td>1169.0</td>\n",
       "      <td>2559.0</td>\n",
       "      <td>1924.0</td>\n",
       "      <td>2231.0</td>\n",
       "      <td>2147.0</td>\n",
       "      <td>2411.0</td>\n",
       "      <td>583.0</td>\n",
       "      <td>418.0</td>\n",
       "      <td>10308.0</td>\n",
       "      <td>24588.0</td>\n",
       "    </tr>\n",
       "    <tr>\n",
       "      <th>4</th>\n",
       "      <td>87mebub9p4</td>\n",
       "      <td>2010-09-14</td>\n",
       "      <td>20091208061105</td>\n",
       "      <td>2010-02-18</td>\n",
       "      <td>-unknown-</td>\n",
       "      <td>41.0</td>\n",
       "      <td>basic</td>\n",
       "      <td>0</td>\n",
       "      <td>en</td>\n",
       "      <td>direct</td>\n",
       "      <td>...</td>\n",
       "      <td>2348.0</td>\n",
       "      <td>5192.0</td>\n",
       "      <td>3976.0</td>\n",
       "      <td>4443.0</td>\n",
       "      <td>4248.0</td>\n",
       "      <td>4839.0</td>\n",
       "      <td>1165.0</td>\n",
       "      <td>834.0</td>\n",
       "      <td>20467.0</td>\n",
       "      <td>49170.0</td>\n",
       "    </tr>\n",
       "  </tbody>\n",
       "</table>\n",
       "<p>5 rows × 30 columns</p>\n",
       "</div>"
      ],
      "text/plain": [
       "           id date_account_created  timestamp_first_active date_first_booking  \\\n",
       "0  gxn3p5htnn           2010-06-28          20090319043255                NaN   \n",
       "1  820tgsjxq7           2011-05-25          20090523174809                NaN   \n",
       "2  4ft3gnwmtx           2010-09-28          20090609231247         2010-08-02   \n",
       "3  bjjt8pjhuk           2011-12-05          20091031060129         2012-09-08   \n",
       "4  87mebub9p4           2010-09-14          20091208061105         2010-02-18   \n",
       "\n",
       "      gender   age signup_method  signup_flow language affiliate_channel  \\\n",
       "0  -unknown-  33.0      facebook            0       en            direct   \n",
       "1       male  38.0      facebook            0       en               seo   \n",
       "2     female  56.0         basic            3       en            direct   \n",
       "3     female  42.0      facebook            0       en            direct   \n",
       "4  -unknown-  41.0         basic            0       en            direct   \n",
       "\n",
       "            ...            country_destination_CA country_destination_DE  \\\n",
       "0           ...                            2502.0                 5198.0   \n",
       "1           ...                            1189.0                 2448.0   \n",
       "2           ...                            1305.0                 2996.0   \n",
       "3           ...                            1169.0                 2559.0   \n",
       "4           ...                            2348.0                 5192.0   \n",
       "\n",
       "  country_destination_ES country_destination_FR country_destination_GB  \\\n",
       "0                 3394.0                 4081.0                 4302.0   \n",
       "1                 2117.0                 1842.0                 1979.0   \n",
       "2                 1531.0                 2125.0                 1991.0   \n",
       "3                 1924.0                 2231.0                 2147.0   \n",
       "4                 3976.0                 4443.0                 4248.0   \n",
       "\n",
       "  country_destination_IT country_destination_NL  country_destination_PT  \\\n",
       "0                 3605.0                 1000.0                   733.0   \n",
       "1                 2117.0                  490.0                   419.0   \n",
       "2                 2069.0                  580.0                   366.0   \n",
       "3                 2411.0                  583.0                   418.0   \n",
       "4                 4839.0                 1165.0                   834.0   \n",
       "\n",
       "  country_destination_US  population_in_thousands  \n",
       "0                21847.0                  48408.0  \n",
       "1                10329.0                  23727.0  \n",
       "2                11264.0                  24966.0  \n",
       "3                10308.0                  24588.0  \n",
       "4                20467.0                  49170.0  \n",
       "\n",
       "[5 rows x 30 columns]"
      ]
     },
     "execution_count": 40,
     "metadata": {},
     "output_type": "execute_result"
    }
   ],
   "source": [
    "whole.head()"
   ]
  },
  {
   "cell_type": "code",
   "execution_count": 41,
   "metadata": {},
   "outputs": [
    {
     "data": {
      "text/plain": [
       "Index(['id', 'date_account_created', 'timestamp_first_active',\n",
       "       'date_first_booking', 'gender', 'age', 'signup_method', 'signup_flow',\n",
       "       'language', 'affiliate_channel', 'affiliate_provider',\n",
       "       'first_affiliate_tracked', 'signup_app', 'first_device_type',\n",
       "       'first_browser', 'country_destination', 'source', 'age_min_key',\n",
       "       'age_bucket', 'country_destination_AU', 'country_destination_CA',\n",
       "       'country_destination_DE', 'country_destination_ES',\n",
       "       'country_destination_FR', 'country_destination_GB',\n",
       "       'country_destination_IT', 'country_destination_NL',\n",
       "       'country_destination_PT', 'country_destination_US',\n",
       "       'population_in_thousands'],\n",
       "      dtype='object')"
      ]
     },
     "execution_count": 41,
     "metadata": {},
     "output_type": "execute_result"
    }
   ],
   "source": [
    "whole.columns"
   ]
  },
  {
   "cell_type": "code",
   "execution_count": 42,
   "metadata": {
    "collapsed": true
   },
   "outputs": [],
   "source": [
    "# country_destination_XXには、訪問者数が絶対値で入っているので、行当たりのトータルが100%になるように、population_in_thousandsで割る\n",
    "tgt_countries = ['country_destination_AU', 'country_destination_CA','country_destination_DE', \n",
    "                 'country_destination_ES', 'country_destination_FR', 'country_destination_GB', \n",
    "                 'country_destination_IT', 'country_destination_NL','country_destination_PT', 'country_destination_US']"
   ]
  },
  {
   "cell_type": "code",
   "execution_count": 45,
   "metadata": {
    "collapsed": true
   },
   "outputs": [],
   "source": [
    "for col in tgt_countries:\n",
    "    whole[col] = whole[col] / whole[\"population_in_thousands\"]"
   ]
  },
  {
   "cell_type": "code",
   "execution_count": 47,
   "metadata": {},
   "outputs": [],
   "source": [
    "# population_in_thousandsは役割を終えたので、dropする\n",
    "whole = whole.drop('population_in_thousands', axis=1)"
   ]
  },
  {
   "cell_type": "markdown",
   "metadata": {},
   "source": [
    "## ログデータは、利活用しないこととした\n",
    "ログデータのうち、google_translateの起動有無を特徴量として抽出しようと考えたが、対象userが69人のみだったので実施せず"
   ]
  },
  {
   "cell_type": "markdown",
   "metadata": {},
   "source": [
    "## Countryデータの整形・結合"
   ]
  },
  {
   "cell_type": "code",
   "execution_count": 48,
   "metadata": {},
   "outputs": [
    {
     "data": {
      "text/html": [
       "<div>\n",
       "<style>\n",
       "    .dataframe thead tr:only-child th {\n",
       "        text-align: right;\n",
       "    }\n",
       "\n",
       "    .dataframe thead th {\n",
       "        text-align: left;\n",
       "    }\n",
       "\n",
       "    .dataframe tbody tr th {\n",
       "        vertical-align: top;\n",
       "    }\n",
       "</style>\n",
       "<table border=\"1\" class=\"dataframe\">\n",
       "  <thead>\n",
       "    <tr style=\"text-align: right;\">\n",
       "      <th></th>\n",
       "      <th>country_destination</th>\n",
       "      <th>lat_destination</th>\n",
       "      <th>lng_destination</th>\n",
       "      <th>distance_km</th>\n",
       "      <th>destination_km2</th>\n",
       "      <th>destination_language</th>\n",
       "      <th>language_levenshtein_distance</th>\n",
       "    </tr>\n",
       "  </thead>\n",
       "  <tbody>\n",
       "    <tr>\n",
       "      <th>0</th>\n",
       "      <td>AU</td>\n",
       "      <td>-26.853388</td>\n",
       "      <td>133.275160</td>\n",
       "      <td>15297.7440</td>\n",
       "      <td>7741220.0</td>\n",
       "      <td>eng</td>\n",
       "      <td>0.00</td>\n",
       "    </tr>\n",
       "    <tr>\n",
       "      <th>1</th>\n",
       "      <td>CA</td>\n",
       "      <td>62.393303</td>\n",
       "      <td>-96.818146</td>\n",
       "      <td>2828.1333</td>\n",
       "      <td>9984670.0</td>\n",
       "      <td>eng</td>\n",
       "      <td>0.00</td>\n",
       "    </tr>\n",
       "    <tr>\n",
       "      <th>2</th>\n",
       "      <td>DE</td>\n",
       "      <td>51.165707</td>\n",
       "      <td>10.452764</td>\n",
       "      <td>7879.5680</td>\n",
       "      <td>357022.0</td>\n",
       "      <td>deu</td>\n",
       "      <td>72.61</td>\n",
       "    </tr>\n",
       "    <tr>\n",
       "      <th>3</th>\n",
       "      <td>ES</td>\n",
       "      <td>39.896027</td>\n",
       "      <td>-2.487694</td>\n",
       "      <td>7730.7240</td>\n",
       "      <td>505370.0</td>\n",
       "      <td>spa</td>\n",
       "      <td>92.25</td>\n",
       "    </tr>\n",
       "    <tr>\n",
       "      <th>4</th>\n",
       "      <td>FR</td>\n",
       "      <td>46.232193</td>\n",
       "      <td>2.209667</td>\n",
       "      <td>7682.9450</td>\n",
       "      <td>643801.0</td>\n",
       "      <td>fra</td>\n",
       "      <td>92.06</td>\n",
       "    </tr>\n",
       "  </tbody>\n",
       "</table>\n",
       "</div>"
      ],
      "text/plain": [
       "  country_destination  lat_destination  lng_destination  distance_km  \\\n",
       "0                  AU       -26.853388       133.275160   15297.7440   \n",
       "1                  CA        62.393303       -96.818146    2828.1333   \n",
       "2                  DE        51.165707        10.452764    7879.5680   \n",
       "3                  ES        39.896027        -2.487694    7730.7240   \n",
       "4                  FR        46.232193         2.209667    7682.9450   \n",
       "\n",
       "   destination_km2 destination_language   language_levenshtein_distance  \n",
       "0        7741220.0                   eng                           0.00  \n",
       "1        9984670.0                   eng                           0.00  \n",
       "2         357022.0                   deu                          72.61  \n",
       "3         505370.0                   spa                          92.25  \n",
       "4         643801.0                   fra                          92.06  "
      ]
     },
     "execution_count": 48,
     "metadata": {},
     "output_type": "execute_result"
    }
   ],
   "source": [
    "country_data.head()"
   ]
  },
  {
   "cell_type": "code",
   "execution_count": 49,
   "metadata": {
    "collapsed": true
   },
   "outputs": [],
   "source": [
    "# userの母国語が、行き先の国の言語とマッチしているかをフラグ化する。\n",
    "# まずは、wholeとcountry_dataの中の言語のnotationの違いを補正\n",
    "lan_conv = {\n",
    "    'deu':'de',\n",
    "    'eng':'en',\n",
    "    'fra':'fr',\n",
    "    'ita':'it',\n",
    "    'nld':'nl',\n",
    "    'por':'pt',\n",
    "    'spa':'es'\n",
    "}"
   ]
  },
  {
   "cell_type": "code",
   "execution_count": 50,
   "metadata": {
    "collapsed": true
   },
   "outputs": [],
   "source": [
    "country_data[\"language\"] = country_data[\"destination_language \"].map(lan_conv)"
   ]
  },
  {
   "cell_type": "code",
   "execution_count": 51,
   "metadata": {
    "collapsed": true
   },
   "outputs": [],
   "source": [
    "# wholeのテーブルに、それぞれのcountryのカラムを作り、値をその言語とする\n",
    "country = np.array(country_data[\"country_destination\"])\n",
    "language = np.array(country_data[\"language\"])"
   ]
  },
  {
   "cell_type": "code",
   "execution_count": 52,
   "metadata": {
    "collapsed": true
   },
   "outputs": [],
   "source": [
    "for i in range(len(country)):\n",
    "    whole[country[i]] = language[i]"
   ]
  },
  {
   "cell_type": "code",
   "execution_count": 53,
   "metadata": {},
   "outputs": [
    {
     "data": {
      "text/html": [
       "<div>\n",
       "<style>\n",
       "    .dataframe thead tr:only-child th {\n",
       "        text-align: right;\n",
       "    }\n",
       "\n",
       "    .dataframe thead th {\n",
       "        text-align: left;\n",
       "    }\n",
       "\n",
       "    .dataframe tbody tr th {\n",
       "        vertical-align: top;\n",
       "    }\n",
       "</style>\n",
       "<table border=\"1\" class=\"dataframe\">\n",
       "  <thead>\n",
       "    <tr style=\"text-align: right;\">\n",
       "      <th></th>\n",
       "      <th>id</th>\n",
       "      <th>date_account_created</th>\n",
       "      <th>timestamp_first_active</th>\n",
       "      <th>date_first_booking</th>\n",
       "      <th>gender</th>\n",
       "      <th>age</th>\n",
       "      <th>signup_method</th>\n",
       "      <th>signup_flow</th>\n",
       "      <th>language</th>\n",
       "      <th>affiliate_channel</th>\n",
       "      <th>...</th>\n",
       "      <th>AU</th>\n",
       "      <th>CA</th>\n",
       "      <th>DE</th>\n",
       "      <th>ES</th>\n",
       "      <th>FR</th>\n",
       "      <th>GB</th>\n",
       "      <th>IT</th>\n",
       "      <th>NL</th>\n",
       "      <th>PT</th>\n",
       "      <th>US</th>\n",
       "    </tr>\n",
       "  </thead>\n",
       "  <tbody>\n",
       "    <tr>\n",
       "      <th>0</th>\n",
       "      <td>gxn3p5htnn</td>\n",
       "      <td>2010-06-28</td>\n",
       "      <td>20090319043255</td>\n",
       "      <td>NaN</td>\n",
       "      <td>-unknown-</td>\n",
       "      <td>33.0</td>\n",
       "      <td>facebook</td>\n",
       "      <td>0</td>\n",
       "      <td>en</td>\n",
       "      <td>direct</td>\n",
       "      <td>...</td>\n",
       "      <td>en</td>\n",
       "      <td>en</td>\n",
       "      <td>de</td>\n",
       "      <td>es</td>\n",
       "      <td>fr</td>\n",
       "      <td>en</td>\n",
       "      <td>it</td>\n",
       "      <td>nl</td>\n",
       "      <td>pt</td>\n",
       "      <td>en</td>\n",
       "    </tr>\n",
       "    <tr>\n",
       "      <th>1</th>\n",
       "      <td>820tgsjxq7</td>\n",
       "      <td>2011-05-25</td>\n",
       "      <td>20090523174809</td>\n",
       "      <td>NaN</td>\n",
       "      <td>male</td>\n",
       "      <td>38.0</td>\n",
       "      <td>facebook</td>\n",
       "      <td>0</td>\n",
       "      <td>en</td>\n",
       "      <td>seo</td>\n",
       "      <td>...</td>\n",
       "      <td>en</td>\n",
       "      <td>en</td>\n",
       "      <td>de</td>\n",
       "      <td>es</td>\n",
       "      <td>fr</td>\n",
       "      <td>en</td>\n",
       "      <td>it</td>\n",
       "      <td>nl</td>\n",
       "      <td>pt</td>\n",
       "      <td>en</td>\n",
       "    </tr>\n",
       "    <tr>\n",
       "      <th>2</th>\n",
       "      <td>4ft3gnwmtx</td>\n",
       "      <td>2010-09-28</td>\n",
       "      <td>20090609231247</td>\n",
       "      <td>2010-08-02</td>\n",
       "      <td>female</td>\n",
       "      <td>56.0</td>\n",
       "      <td>basic</td>\n",
       "      <td>3</td>\n",
       "      <td>en</td>\n",
       "      <td>direct</td>\n",
       "      <td>...</td>\n",
       "      <td>en</td>\n",
       "      <td>en</td>\n",
       "      <td>de</td>\n",
       "      <td>es</td>\n",
       "      <td>fr</td>\n",
       "      <td>en</td>\n",
       "      <td>it</td>\n",
       "      <td>nl</td>\n",
       "      <td>pt</td>\n",
       "      <td>en</td>\n",
       "    </tr>\n",
       "    <tr>\n",
       "      <th>3</th>\n",
       "      <td>bjjt8pjhuk</td>\n",
       "      <td>2011-12-05</td>\n",
       "      <td>20091031060129</td>\n",
       "      <td>2012-09-08</td>\n",
       "      <td>female</td>\n",
       "      <td>42.0</td>\n",
       "      <td>facebook</td>\n",
       "      <td>0</td>\n",
       "      <td>en</td>\n",
       "      <td>direct</td>\n",
       "      <td>...</td>\n",
       "      <td>en</td>\n",
       "      <td>en</td>\n",
       "      <td>de</td>\n",
       "      <td>es</td>\n",
       "      <td>fr</td>\n",
       "      <td>en</td>\n",
       "      <td>it</td>\n",
       "      <td>nl</td>\n",
       "      <td>pt</td>\n",
       "      <td>en</td>\n",
       "    </tr>\n",
       "    <tr>\n",
       "      <th>4</th>\n",
       "      <td>87mebub9p4</td>\n",
       "      <td>2010-09-14</td>\n",
       "      <td>20091208061105</td>\n",
       "      <td>2010-02-18</td>\n",
       "      <td>-unknown-</td>\n",
       "      <td>41.0</td>\n",
       "      <td>basic</td>\n",
       "      <td>0</td>\n",
       "      <td>en</td>\n",
       "      <td>direct</td>\n",
       "      <td>...</td>\n",
       "      <td>en</td>\n",
       "      <td>en</td>\n",
       "      <td>de</td>\n",
       "      <td>es</td>\n",
       "      <td>fr</td>\n",
       "      <td>en</td>\n",
       "      <td>it</td>\n",
       "      <td>nl</td>\n",
       "      <td>pt</td>\n",
       "      <td>en</td>\n",
       "    </tr>\n",
       "  </tbody>\n",
       "</table>\n",
       "<p>5 rows × 39 columns</p>\n",
       "</div>"
      ],
      "text/plain": [
       "           id date_account_created  timestamp_first_active date_first_booking  \\\n",
       "0  gxn3p5htnn           2010-06-28          20090319043255                NaN   \n",
       "1  820tgsjxq7           2011-05-25          20090523174809                NaN   \n",
       "2  4ft3gnwmtx           2010-09-28          20090609231247         2010-08-02   \n",
       "3  bjjt8pjhuk           2011-12-05          20091031060129         2012-09-08   \n",
       "4  87mebub9p4           2010-09-14          20091208061105         2010-02-18   \n",
       "\n",
       "      gender   age signup_method  signup_flow language affiliate_channel ...  \\\n",
       "0  -unknown-  33.0      facebook            0       en            direct ...   \n",
       "1       male  38.0      facebook            0       en               seo ...   \n",
       "2     female  56.0         basic            3       en            direct ...   \n",
       "3     female  42.0      facebook            0       en            direct ...   \n",
       "4  -unknown-  41.0         basic            0       en            direct ...   \n",
       "\n",
       "   AU  CA  DE  ES  FR  GB  IT  NL  PT  US  \n",
       "0  en  en  de  es  fr  en  it  nl  pt  en  \n",
       "1  en  en  de  es  fr  en  it  nl  pt  en  \n",
       "2  en  en  de  es  fr  en  it  nl  pt  en  \n",
       "3  en  en  de  es  fr  en  it  nl  pt  en  \n",
       "4  en  en  de  es  fr  en  it  nl  pt  en  \n",
       "\n",
       "[5 rows x 39 columns]"
      ]
     },
     "execution_count": 53,
     "metadata": {},
     "output_type": "execute_result"
    }
   ],
   "source": [
    "whole.head()"
   ]
  },
  {
   "cell_type": "code",
   "execution_count": 54,
   "metadata": {},
   "outputs": [
    {
     "data": {
      "text/plain": [
       "Index(['id', 'date_account_created', 'timestamp_first_active',\n",
       "       'date_first_booking', 'gender', 'age', 'signup_method', 'signup_flow',\n",
       "       'language', 'affiliate_channel', 'affiliate_provider',\n",
       "       'first_affiliate_tracked', 'signup_app', 'first_device_type',\n",
       "       'first_browser', 'country_destination', 'source', 'age_min_key',\n",
       "       'age_bucket', 'country_destination_AU', 'country_destination_CA',\n",
       "       'country_destination_DE', 'country_destination_ES',\n",
       "       'country_destination_FR', 'country_destination_GB',\n",
       "       'country_destination_IT', 'country_destination_NL',\n",
       "       'country_destination_PT', 'country_destination_US', 'AU', 'CA', 'DE',\n",
       "       'ES', 'FR', 'GB', 'IT', 'NL', 'PT', 'US'],\n",
       "      dtype='object')"
      ]
     },
     "execution_count": 54,
     "metadata": {},
     "output_type": "execute_result"
    }
   ],
   "source": [
    "whole.columns"
   ]
  },
  {
   "cell_type": "code",
   "execution_count": 55,
   "metadata": {
    "collapsed": true
   },
   "outputs": [],
   "source": [
    "# それぞれのcountryのカラムで、userの母国語とのマッチングをフラグ化する\n",
    "lang_countries = ['AU', 'CA', 'DE', 'ES', 'FR', 'GB', 'IT', 'NL', 'PT', 'US']"
   ]
  },
  {
   "cell_type": "code",
   "execution_count": 56,
   "metadata": {
    "collapsed": true
   },
   "outputs": [],
   "source": [
    "for each_lan in lang_countries:\n",
    "    whole[each_lan] = (whole[\"language\"] == whole[each_lan]) * 1 "
   ]
  },
  {
   "cell_type": "code",
   "execution_count": 57,
   "metadata": {},
   "outputs": [
    {
     "data": {
      "text/html": [
       "<div>\n",
       "<style>\n",
       "    .dataframe thead tr:only-child th {\n",
       "        text-align: right;\n",
       "    }\n",
       "\n",
       "    .dataframe thead th {\n",
       "        text-align: left;\n",
       "    }\n",
       "\n",
       "    .dataframe tbody tr th {\n",
       "        vertical-align: top;\n",
       "    }\n",
       "</style>\n",
       "<table border=\"1\" class=\"dataframe\">\n",
       "  <thead>\n",
       "    <tr style=\"text-align: right;\">\n",
       "      <th></th>\n",
       "      <th>id</th>\n",
       "      <th>date_account_created</th>\n",
       "      <th>timestamp_first_active</th>\n",
       "      <th>date_first_booking</th>\n",
       "      <th>gender</th>\n",
       "      <th>age</th>\n",
       "      <th>signup_method</th>\n",
       "      <th>signup_flow</th>\n",
       "      <th>language</th>\n",
       "      <th>affiliate_channel</th>\n",
       "      <th>...</th>\n",
       "      <th>AU</th>\n",
       "      <th>CA</th>\n",
       "      <th>DE</th>\n",
       "      <th>ES</th>\n",
       "      <th>FR</th>\n",
       "      <th>GB</th>\n",
       "      <th>IT</th>\n",
       "      <th>NL</th>\n",
       "      <th>PT</th>\n",
       "      <th>US</th>\n",
       "    </tr>\n",
       "  </thead>\n",
       "  <tbody>\n",
       "    <tr>\n",
       "      <th>0</th>\n",
       "      <td>gxn3p5htnn</td>\n",
       "      <td>2010-06-28</td>\n",
       "      <td>20090319043255</td>\n",
       "      <td>NaN</td>\n",
       "      <td>-unknown-</td>\n",
       "      <td>33.0</td>\n",
       "      <td>facebook</td>\n",
       "      <td>0</td>\n",
       "      <td>en</td>\n",
       "      <td>direct</td>\n",
       "      <td>...</td>\n",
       "      <td>1</td>\n",
       "      <td>1</td>\n",
       "      <td>0</td>\n",
       "      <td>0</td>\n",
       "      <td>0</td>\n",
       "      <td>1</td>\n",
       "      <td>0</td>\n",
       "      <td>0</td>\n",
       "      <td>0</td>\n",
       "      <td>1</td>\n",
       "    </tr>\n",
       "    <tr>\n",
       "      <th>1</th>\n",
       "      <td>820tgsjxq7</td>\n",
       "      <td>2011-05-25</td>\n",
       "      <td>20090523174809</td>\n",
       "      <td>NaN</td>\n",
       "      <td>male</td>\n",
       "      <td>38.0</td>\n",
       "      <td>facebook</td>\n",
       "      <td>0</td>\n",
       "      <td>en</td>\n",
       "      <td>seo</td>\n",
       "      <td>...</td>\n",
       "      <td>1</td>\n",
       "      <td>1</td>\n",
       "      <td>0</td>\n",
       "      <td>0</td>\n",
       "      <td>0</td>\n",
       "      <td>1</td>\n",
       "      <td>0</td>\n",
       "      <td>0</td>\n",
       "      <td>0</td>\n",
       "      <td>1</td>\n",
       "    </tr>\n",
       "    <tr>\n",
       "      <th>2</th>\n",
       "      <td>4ft3gnwmtx</td>\n",
       "      <td>2010-09-28</td>\n",
       "      <td>20090609231247</td>\n",
       "      <td>2010-08-02</td>\n",
       "      <td>female</td>\n",
       "      <td>56.0</td>\n",
       "      <td>basic</td>\n",
       "      <td>3</td>\n",
       "      <td>en</td>\n",
       "      <td>direct</td>\n",
       "      <td>...</td>\n",
       "      <td>1</td>\n",
       "      <td>1</td>\n",
       "      <td>0</td>\n",
       "      <td>0</td>\n",
       "      <td>0</td>\n",
       "      <td>1</td>\n",
       "      <td>0</td>\n",
       "      <td>0</td>\n",
       "      <td>0</td>\n",
       "      <td>1</td>\n",
       "    </tr>\n",
       "    <tr>\n",
       "      <th>3</th>\n",
       "      <td>bjjt8pjhuk</td>\n",
       "      <td>2011-12-05</td>\n",
       "      <td>20091031060129</td>\n",
       "      <td>2012-09-08</td>\n",
       "      <td>female</td>\n",
       "      <td>42.0</td>\n",
       "      <td>facebook</td>\n",
       "      <td>0</td>\n",
       "      <td>en</td>\n",
       "      <td>direct</td>\n",
       "      <td>...</td>\n",
       "      <td>1</td>\n",
       "      <td>1</td>\n",
       "      <td>0</td>\n",
       "      <td>0</td>\n",
       "      <td>0</td>\n",
       "      <td>1</td>\n",
       "      <td>0</td>\n",
       "      <td>0</td>\n",
       "      <td>0</td>\n",
       "      <td>1</td>\n",
       "    </tr>\n",
       "    <tr>\n",
       "      <th>4</th>\n",
       "      <td>87mebub9p4</td>\n",
       "      <td>2010-09-14</td>\n",
       "      <td>20091208061105</td>\n",
       "      <td>2010-02-18</td>\n",
       "      <td>-unknown-</td>\n",
       "      <td>41.0</td>\n",
       "      <td>basic</td>\n",
       "      <td>0</td>\n",
       "      <td>en</td>\n",
       "      <td>direct</td>\n",
       "      <td>...</td>\n",
       "      <td>1</td>\n",
       "      <td>1</td>\n",
       "      <td>0</td>\n",
       "      <td>0</td>\n",
       "      <td>0</td>\n",
       "      <td>1</td>\n",
       "      <td>0</td>\n",
       "      <td>0</td>\n",
       "      <td>0</td>\n",
       "      <td>1</td>\n",
       "    </tr>\n",
       "  </tbody>\n",
       "</table>\n",
       "<p>5 rows × 39 columns</p>\n",
       "</div>"
      ],
      "text/plain": [
       "           id date_account_created  timestamp_first_active date_first_booking  \\\n",
       "0  gxn3p5htnn           2010-06-28          20090319043255                NaN   \n",
       "1  820tgsjxq7           2011-05-25          20090523174809                NaN   \n",
       "2  4ft3gnwmtx           2010-09-28          20090609231247         2010-08-02   \n",
       "3  bjjt8pjhuk           2011-12-05          20091031060129         2012-09-08   \n",
       "4  87mebub9p4           2010-09-14          20091208061105         2010-02-18   \n",
       "\n",
       "      gender   age signup_method  signup_flow language affiliate_channel ...  \\\n",
       "0  -unknown-  33.0      facebook            0       en            direct ...   \n",
       "1       male  38.0      facebook            0       en               seo ...   \n",
       "2     female  56.0         basic            3       en            direct ...   \n",
       "3     female  42.0      facebook            0       en            direct ...   \n",
       "4  -unknown-  41.0         basic            0       en            direct ...   \n",
       "\n",
       "  AU CA DE ES FR GB IT  NL PT  US  \n",
       "0  1  1  0  0  0  1  0   0  0   1  \n",
       "1  1  1  0  0  0  1  0   0  0   1  \n",
       "2  1  1  0  0  0  1  0   0  0   1  \n",
       "3  1  1  0  0  0  1  0   0  0   1  \n",
       "4  1  1  0  0  0  1  0   0  0   1  \n",
       "\n",
       "[5 rows x 39 columns]"
      ]
     },
     "execution_count": 57,
     "metadata": {},
     "output_type": "execute_result"
    }
   ],
   "source": [
    "whole.head()"
   ]
  },
  {
   "cell_type": "markdown",
   "metadata": {},
   "source": [
    "## 特徴量の量産プロセス（とりあえず、たくさん作ってみる）"
   ]
  },
  {
   "cell_type": "code",
   "execution_count": 58,
   "metadata": {
    "collapsed": true
   },
   "outputs": [],
   "source": [
    "#date_account_createdから年と月を抽出し特徴量に\n",
    "whole[\"Month_account_created\"]= whole['date_account_created'].apply(lambda x: int(x[5:7]))\n",
    "whole[\"Year_account_created\"]= whole['date_account_created'].apply(lambda x: int(x[:4]))\n",
    "\n",
    "#timestamp_first_activeから年と月を抽出し特徴量に\n",
    "whole.timestamp_first_active=whole.timestamp_first_active.apply(str)\n",
    "whole[\"Month_first_active\"]=whole['timestamp_first_active'].apply(lambda x:int(x[4:6]))\n",
    "whole[\"Year_first_active\"]=whole['timestamp_first_active'].apply(lambda x:int(x[:4]))"
   ]
  },
  {
   "cell_type": "code",
   "execution_count": 59,
   "metadata": {
    "collapsed": true
   },
   "outputs": [],
   "source": [
    "# gender,signup_method,language~first_browserについて\n",
    "#カテゴリー変数なので数値に変換\n",
    "category_columns=[\"gender\",\"signup_method\",\"language\",\"affiliate_channel\",\"affiliate_provider\",\n",
    "                  \"first_affiliate_tracked\",\"signup_app\",\"first_device_type\",\"first_browser\"]\n",
    "whole = pd.get_dummies(whole, columns=category_columns)"
   ]
  },
  {
   "cell_type": "code",
   "execution_count": 60,
   "metadata": {
    "collapsed": true
   },
   "outputs": [],
   "source": [
    "# auto_feature generation関数の使用に必要なライブラリをインポート\n",
    "from scipy.stats import spearmanr\n",
    "from sklearn.cross_validation import train_test_split, KFold\n",
    "from sklearn.metrics import mean_squared_error"
   ]
  },
  {
   "cell_type": "code",
   "execution_count": 63,
   "metadata": {
    "collapsed": true
   },
   "outputs": [],
   "source": [
    "# ターゲット変数と、割り算による特徴量生成の対象となるカラムを指定する\n",
    "target_col = 'country_destination'\n",
    "feature_cols = ['age', 'country_destination_CA',\n",
    "       'country_destination_DE', 'country_destination_ES',\n",
    "       'country_destination_FR', 'country_destination_GB',\n",
    "       'country_destination_IT', 'country_destination_NL',\n",
    "       'country_destination_PT', 'country_destination_US',\n",
    "       'AU', 'CA', 'DE','ES', 'FR', 'GB', 'IT', 'NL', 'PT', 'US']                "
   ]
  },
  {
   "cell_type": "code",
   "execution_count": 64,
   "metadata": {
    "collapsed": true
   },
   "outputs": [],
   "source": [
    "# 特徴量を割り算で計算\n",
    "cutoff_r = 0.5\n",
    "new_added_col = []\n",
    "for i in range(0, len(feature_cols)-1):\n",
    "    for j in range(i+1, len(feature_cols)):\n",
    "        first_col_name = feature_cols[i]\n",
    "        second_col_name = feature_cols[j]\n",
    "        r = spearmanr(whole[first_col_name], whole[second_col_name]).correlation\n",
    "        if abs(r) > cutoff_r:\n",
    "            new_colname = first_col_name + \"_div_\" + second_col_name\n",
    "            whole[new_colname] = whole[first_col_name] / (whole[second_col_name] + 0.01)\n",
    "            new_added_col.append(new_colname)"
   ]
  },
  {
   "cell_type": "code",
   "execution_count": 65,
   "metadata": {
    "collapsed": true
   },
   "outputs": [],
   "source": [
    "feature_cols = feature_cols + new_added_col"
   ]
  },
  {
   "cell_type": "code",
   "execution_count": 66,
   "metadata": {},
   "outputs": [
    {
     "data": {
      "text/plain": [
       "['age_div_country_destination_ES',\n",
       " 'age_div_country_destination_IT',\n",
       " 'age_div_country_destination_PT',\n",
       " 'age_div_country_destination_US',\n",
       " 'country_destination_CA_div_country_destination_GB',\n",
       " 'country_destination_CA_div_country_destination_IT',\n",
       " 'country_destination_DE_div_country_destination_US',\n",
       " 'country_destination_ES_div_country_destination_FR',\n",
       " 'country_destination_ES_div_country_destination_IT',\n",
       " 'country_destination_ES_div_country_destination_PT',\n",
       " 'country_destination_ES_div_country_destination_US',\n",
       " 'country_destination_FR_div_country_destination_NL',\n",
       " 'country_destination_FR_div_country_destination_PT',\n",
       " 'country_destination_GB_div_country_destination_IT',\n",
       " 'country_destination_IT_div_country_destination_PT',\n",
       " 'country_destination_IT_div_country_destination_US',\n",
       " 'country_destination_PT_div_country_destination_US',\n",
       " 'AU_div_CA',\n",
       " 'AU_div_GB',\n",
       " 'AU_div_US',\n",
       " 'CA_div_GB',\n",
       " 'CA_div_US',\n",
       " 'GB_div_US']"
      ]
     },
     "execution_count": 66,
     "metadata": {},
     "output_type": "execute_result"
    }
   ],
   "source": [
    "new_added_col"
   ]
  },
  {
   "cell_type": "markdown",
   "metadata": {},
   "source": [
    "## wholeをtrainとtestに再分割して、モデリングの準備"
   ]
  },
  {
   "cell_type": "code",
   "execution_count": 67,
   "metadata": {
    "collapsed": true
   },
   "outputs": [],
   "source": [
    "# sourceカラムを使って、trainとtestに分割\n",
    "train=whole[whole.source == 'train']\n",
    "test=whole[whole.source == 'test']\n",
    "test_id = test['id'] ##使い道がよくわからないけど、とりあえず、benchmark codeをコピー"
   ]
  },
  {
   "cell_type": "code",
   "execution_count": 69,
   "metadata": {},
   "outputs": [],
   "source": [
    "# train.head(1).T"
   ]
  },
  {
   "cell_type": "code",
   "execution_count": 70,
   "metadata": {
    "collapsed": true
   },
   "outputs": [],
   "source": [
    "#予測に用いるデータの作成\n",
    "X_train=train.drop([\"id\",\"date_account_created\",\"timestamp_first_active\",\n",
    "                    \"date_first_booking\",\"country_destination\", \"source\", \n",
    "                    \"age_min_key\", \"age_bucket\"],axis=1)\n",
    "y_train=train.country_destination"
   ]
  },
  {
   "cell_type": "code",
   "execution_count": 71,
   "metadata": {
    "collapsed": true
   },
   "outputs": [],
   "source": [
    "X_test=test.drop([\"id\",\"date_account_created\",\"timestamp_first_active\",\n",
    "                  \"date_first_booking\",\"country_destination\", \"source\", \n",
    "                  \"age_min_key\", \"age_bucket\"],axis=1)"
   ]
  },
  {
   "cell_type": "code",
   "execution_count": 72,
   "metadata": {},
   "outputs": [
    {
     "data": {
      "text/plain": [
       "(213451, 191)"
      ]
     },
     "execution_count": 72,
     "metadata": {},
     "output_type": "execute_result"
    }
   ],
   "source": [
    "train.shape"
   ]
  },
  {
   "cell_type": "code",
   "execution_count": 76,
   "metadata": {},
   "outputs": [
    {
     "data": {
      "text/plain": [
       "(213451, 183)"
      ]
     },
     "execution_count": 76,
     "metadata": {},
     "output_type": "execute_result"
    }
   ],
   "source": [
    "X_train.shape"
   ]
  },
  {
   "cell_type": "code",
   "execution_count": 77,
   "metadata": {},
   "outputs": [
    {
     "data": {
      "text/plain": [
       "(213451,)"
      ]
     },
     "execution_count": 77,
     "metadata": {},
     "output_type": "execute_result"
    }
   ],
   "source": [
    "y_train.shape"
   ]
  },
  {
   "cell_type": "code",
   "execution_count": 74,
   "metadata": {},
   "outputs": [
    {
     "data": {
      "text/plain": [
       "(62096, 183)"
      ]
     },
     "execution_count": 74,
     "metadata": {},
     "output_type": "execute_result"
    }
   ],
   "source": [
    "X_test.shape"
   ]
  },
  {
   "cell_type": "code",
   "execution_count": 79,
   "metadata": {},
   "outputs": [
    {
     "data": {
      "text/plain": [
       "{'AU': 6,\n",
       " 'CA': 3,\n",
       " 'DE': 5,\n",
       " 'ES': 0,\n",
       " 'FR': 9,\n",
       " 'GB': 1,\n",
       " 'IT': 2,\n",
       " 'NDF': 11,\n",
       " 'NL': 8,\n",
       " 'PT': 4,\n",
       " 'US': 10,\n",
       " 'other': 7}"
      ]
     },
     "execution_count": 79,
     "metadata": {},
     "output_type": "execute_result"
    }
   ],
   "source": [
    "# Countryの辞書作成\n",
    "country_unique=list(set(y_train))\n",
    "country_dict={country_unique[i]:i for i in range(len(country_unique))}\n",
    "country_dict"
   ]
  },
  {
   "cell_type": "code",
   "execution_count": 80,
   "metadata": {},
   "outputs": [
    {
     "data": {
      "text/plain": [
       "0    11\n",
       "1    11\n",
       "2    10\n",
       "3     7\n",
       "4    10\n",
       "5    10\n",
       "6    10\n",
       "7    10\n",
       "8    10\n",
       "9    10\n",
       "Name: country_destination, dtype: int64"
      ]
     },
     "execution_count": 80,
     "metadata": {},
     "output_type": "execute_result"
    }
   ],
   "source": [
    "# countryの辞書をy_trainに充てる\n",
    "y_train_map=y_train.map(country_dict)\n",
    "y_train_map[:10]"
   ]
  },
  {
   "cell_type": "markdown",
   "metadata": {},
   "source": [
    "## NDCGの関数を定義する"
   ]
  },
  {
   "cell_type": "code",
   "execution_count": 81,
   "metadata": {
    "collapsed": true
   },
   "outputs": [],
   "source": [
    "y_true = 3\n",
    "y_pred = np.array([5,3,2,1,0])"
   ]
  },
  {
   "cell_type": "code",
   "execution_count": 82,
   "metadata": {
    "collapsed": true
   },
   "outputs": [],
   "source": [
    "country_idx = sorted(list(country_dict.values()))\n",
    "country_idx = np.array(country_idx)\n",
    "\n",
    "def get_dcg(y_pred, y_true):\n",
    "    dcg5 = (2**(y_pred==y_true).astype(np.float) -1) /np.log2(np.arange(1,len(y_pred)+1)+1)\n",
    "    return sum(dcg5)\n",
    "\n",
    "def get_mean_dcg_score(proba_array, y_true):\n",
    "    dcg_scores = []\n",
    "    for i in range(len(proba_array)):\n",
    "        each = proba_array[i]\n",
    "        top5_idx = country_idx[np.argsort(each)][::-1][:5]  #Top5の国のインデックスを取得\n",
    "        tmp_dcg = get_dcg(y_pred=top5_idx, y_true=y_true[i])  #DCGのスコアを取得\n",
    "        dcg_scores.append(tmp_dcg)  #全てのレコードのDCGのスコアを保管\n",
    "    return np.mean(dcg_scores)"
   ]
  },
  {
   "cell_type": "markdown",
   "metadata": {},
   "source": [
    "テスト:  予測した順番が3,1,2,0 / 正解は3（つまり正しい結果を予測できている）"
   ]
  },
  {
   "cell_type": "code",
   "execution_count": 83,
   "metadata": {},
   "outputs": [
    {
     "data": {
      "text/plain": [
       "1.0"
      ]
     },
     "execution_count": 83,
     "metadata": {},
     "output_type": "execute_result"
    }
   ],
   "source": [
    "y_true = np.array([3])\n",
    "y_pred = np.array([3,1,2,0])\n",
    "    \n",
    "get_dcg(y_pred=y_pred, y_true=y_true)"
   ]
  },
  {
   "cell_type": "markdown",
   "metadata": {},
   "source": [
    "## クロスバリデーション"
   ]
  },
  {
   "cell_type": "code",
   "execution_count": 84,
   "metadata": {
    "collapsed": true
   },
   "outputs": [],
   "source": [
    "# モデリングに入れるためのテーブルをndarrayに変換する\n",
    "X_train_ar = np.array(X_train)\n",
    "y_train_map_ar = np.array(y_train_map)\n",
    "X_test_ar = np.array(X_test)"
   ]
  },
  {
   "cell_type": "code",
   "execution_count": 85,
   "metadata": {
    "collapsed": true
   },
   "outputs": [],
   "source": [
    "# クロスバリデーション実施\n",
    "k_fold=KFold(y_train_map_ar.shape[0],5,shuffle=True)\n",
    "score_list=[]\n",
    "\n",
    "clf = RandomForestClassifier()\n",
    "\n",
    "for train_index, test_index in k_fold:\n",
    "    X1,X2 = X_train_ar[train_index], X_train_ar[test_index]\n",
    "    Y1,Y2 = y_train_map_ar[train_index], y_train_map_ar[test_index]\n",
    "    clf.fit(X1, Y1)\n",
    "    ypred = clf.predict_proba(X2)\n",
    "    ndcg_score = get_mean_dcg_score(ypred, Y2)\n",
    "    score_list.append(ndcg_score)"
   ]
  },
  {
   "cell_type": "code",
   "execution_count": 86,
   "metadata": {},
   "outputs": [
    {
     "name": "stdout",
     "output_type": "stream",
     "text": [
      "Mean:  0.786424327115\n",
      "SD:  0.0012081853144\n"
     ]
    }
   ],
   "source": [
    "print(\"Mean: \", np.mean(score_list))\n",
    "print(\"SD: \", np.std(score_list))"
   ]
  },
  {
   "cell_type": "markdown",
   "metadata": {},
   "source": [
    "## 変数の重要度確認"
   ]
  },
  {
   "cell_type": "code",
   "execution_count": 87,
   "metadata": {
    "collapsed": true
   },
   "outputs": [],
   "source": [
    "def varImpPlot(clf, feature_names, topN = 10, verbose = True):\n",
    "    feature_names = np.array(feature_names)\n",
    "    feature_importance = clf.feature_importances_\n",
    "    feature_importance = 100.0 * (feature_importance / feature_importance.max())\n",
    "    sorted_idx = np.argsort(feature_importance)\n",
    "    \n",
    "    topN_feature = feature_importance[sorted_idx][len(feature_importance) - topN:]\n",
    "    topN_feature_name = feature_names[sorted_idx][len(feature_importance) - topN:]\n",
    "    pos = np.arange(topN) + .5\n",
    "    plt.barh(pos, topN_feature, align='center')\n",
    "    plt.yticks(pos, topN_feature_name)\n",
    "    plt.xlabel('Relative Importance')\n",
    "    plt.title('Variable Importance')\n",
    "    plt.show()\n",
    "    \n",
    "    rev_sorted_idx = np.argsort(feature_importance)[::-1]\n",
    "    if verbose:\n",
    "        for i, v in zip(feature_names[rev_sorted_idx], feature_importance[rev_sorted_idx]):\n",
    "            print(i, v)"
   ]
  },
  {
   "cell_type": "code",
   "execution_count": 88,
   "metadata": {
    "collapsed": true
   },
   "outputs": [],
   "source": [
    "feature_cols = X_train.columns"
   ]
  },
  {
   "cell_type": "code",
   "execution_count": 89,
   "metadata": {},
   "outputs": [
    {
     "data": {
      "image/png": "[encoded data removed]",
      "text/plain": [
       "<matplotlib.figure.Figure at 0x192f92137f0>"
      ]
     },
     "metadata": {},
     "output_type": "display_data"
    }
   ],
   "source": [
    "varImpPlot(clf, feature_cols, topN=20, verbose=False)"
   ]
  },
  {
   "cell_type": "markdown",
   "metadata": {},
   "source": [
    "## 一定の重要度がないものを削除してモデル再構築"
   ]
  },
  {
   "cell_type": "code",
   "execution_count": 90,
   "metadata": {
    "collapsed": true
   },
   "outputs": [],
   "source": [
    "feature_importance = clf.feature_importances_\n",
    "feature_importance = 100.0 * (feature_importance / feature_importance.max())\n",
    "feature_cols_ar = np.array(feature_cols)\n",
    "new_feature_cols = feature_cols_ar[feature_importance > 0]"
   ]
  },
  {
   "cell_type": "code",
   "execution_count": 101,
   "metadata": {},
   "outputs": [
    {
     "name": "stdout",
     "output_type": "stream",
     "text": [
      "# of original feature cols: 183 , # of new feature cols: 173\n"
     ]
    }
   ],
   "source": [
    "print(\"# of original feature cols:\", len(feature_cols), \", # of new feature cols:\",len(new_feature_cols))"
   ]
  },
  {
   "cell_type": "code",
   "execution_count": 102,
   "metadata": {
    "collapsed": true
   },
   "outputs": [],
   "source": [
    "#予測に用いるデータの再作成\n",
    "X_train=train[new_feature_cols]\n",
    "y_train=train.country_destination"
   ]
  },
  {
   "cell_type": "code",
   "execution_count": 103,
   "metadata": {
    "collapsed": true
   },
   "outputs": [],
   "source": [
    "X_test=test[new_feature_cols]"
   ]
  },
  {
   "cell_type": "code",
   "execution_count": 104,
   "metadata": {
    "collapsed": true
   },
   "outputs": [],
   "source": [
    "X_train_ar = np.array(X_train)\n",
    "y_train_map_ar = np.array(y_train_map)\n",
    "X_test_ar = np.array(X_test)"
   ]
  },
  {
   "cell_type": "code",
   "execution_count": 105,
   "metadata": {
    "collapsed": true
   },
   "outputs": [],
   "source": [
    "# クロスバリデーション実施\n",
    "k_fold=KFold(y_train_map_ar.shape[0],5,shuffle=True)\n",
    "score_list=[]\n",
    "\n",
    "clf = RandomForestClassifier()\n",
    "\n",
    "for train_index, test_index in k_fold:\n",
    "    X1,X2 = X_train_ar[train_index], X_train_ar[test_index]\n",
    "    Y1,Y2 = y_train_map_ar[train_index], y_train_map_ar[test_index]\n",
    "    clf.fit(X1, Y1)\n",
    "    ypred = clf.predict_proba(X2)\n",
    "    ndcg_score = get_mean_dcg_score(ypred, Y2)\n",
    "    score_list.append(ndcg_score)"
   ]
  },
  {
   "cell_type": "code",
   "execution_count": 106,
   "metadata": {},
   "outputs": [
    {
     "name": "stdout",
     "output_type": "stream",
     "text": [
      "Mean:  0.786847201476\n",
      "SD:  0.00143127416402\n"
     ]
    }
   ],
   "source": [
    "print(\"Mean: \", np.mean(score_list))\n",
    "print(\"SD: \", np.std(score_list))"
   ]
  },
  {
   "cell_type": "markdown",
   "metadata": {},
   "source": [
    "### うーん、標準偏差は微増したものの、精度が少しばかりあがったので、こちらを採用"
   ]
  },
  {
   "cell_type": "markdown",
   "metadata": {},
   "source": [
    "## 最終モデルの作成"
   ]
  },
  {
   "cell_type": "code",
   "execution_count": 107,
   "metadata": {
    "collapsed": true
   },
   "outputs": [],
   "source": [
    "clf = RandomForestClassifier()\n",
    "clf.fit(X_train_ar, y_train_map_ar)\n",
    "ypred_proba = clf.predict_proba(X_test_ar)"
   ]
  },
  {
   "cell_type": "markdown",
   "metadata": {},
   "source": [
    "## Submission Fileを書き出す"
   ]
  },
  {
   "cell_type": "code",
   "execution_count": 108,
   "metadata": {},
   "outputs": [
    {
     "data": {
      "text/plain": [
       "{0: 'ES',\n",
       " 1: 'GB',\n",
       " 2: 'IT',\n",
       " 3: 'CA',\n",
       " 4: 'PT',\n",
       " 5: 'DE',\n",
       " 6: 'AU',\n",
       " 7: 'other',\n",
       " 8: 'NL',\n",
       " 9: 'FR',\n",
       " 10: 'US',\n",
       " 11: 'NDF'}"
      ]
     },
     "execution_count": 108,
     "metadata": {},
     "output_type": "execute_result"
    }
   ],
   "source": [
    "# country_dictのKeyとValueを入れ替えた形で辞書を作る\n",
    "country_dict_reverse={v:k for k,v in country_dict.items()}\n",
    "country_dict_reverse"
   ]
  },
  {
   "cell_type": "code",
   "execution_count": 109,
   "metadata": {
    "collapsed": true
   },
   "outputs": [],
   "source": [
    "#Submission用データを作成\n",
    "submission_data = []\n",
    "for user_id, proba_each in zip(test_id, ypred_proba):\n",
    "    top5_idx = country_idx[np.argsort(proba_each)][::-1][:5]  #Top5の国のインデックスを取得\n",
    "    top5_country = [country_dict_reverse[idx] for idx in top5_idx]\n",
    "    for each_country in top5_country:\n",
    "        tmp_ = [user_id, each_country]\n",
    "        submission_data.append(tmp_)"
   ]
  },
  {
   "cell_type": "code",
   "execution_count": 110,
   "metadata": {
    "collapsed": true
   },
   "outputs": [],
   "source": [
    "#データフレームに変換\n",
    "submission_df = pd.DataFrame(submission_data, columns=['id', 'country'])"
   ]
  },
  {
   "cell_type": "code",
   "execution_count": 111,
   "metadata": {},
   "outputs": [
    {
     "name": "stdout",
     "output_type": "stream",
     "text": [
      "(310480, 2)\n"
     ]
    },
    {
     "data": {
      "text/html": [
       "<div>\n",
       "<style>\n",
       "    .dataframe thead tr:only-child th {\n",
       "        text-align: right;\n",
       "    }\n",
       "\n",
       "    .dataframe thead th {\n",
       "        text-align: left;\n",
       "    }\n",
       "\n",
       "    .dataframe tbody tr th {\n",
       "        vertical-align: top;\n",
       "    }\n",
       "</style>\n",
       "<table border=\"1\" class=\"dataframe\">\n",
       "  <thead>\n",
       "    <tr style=\"text-align: right;\">\n",
       "      <th></th>\n",
       "      <th>id</th>\n",
       "      <th>country</th>\n",
       "    </tr>\n",
       "  </thead>\n",
       "  <tbody>\n",
       "    <tr>\n",
       "      <th>0</th>\n",
       "      <td>5uwns89zht</td>\n",
       "      <td>US</td>\n",
       "    </tr>\n",
       "    <tr>\n",
       "      <th>1</th>\n",
       "      <td>5uwns89zht</td>\n",
       "      <td>NDF</td>\n",
       "    </tr>\n",
       "    <tr>\n",
       "      <th>2</th>\n",
       "      <td>5uwns89zht</td>\n",
       "      <td>FR</td>\n",
       "    </tr>\n",
       "    <tr>\n",
       "      <th>3</th>\n",
       "      <td>5uwns89zht</td>\n",
       "      <td>NL</td>\n",
       "    </tr>\n",
       "    <tr>\n",
       "      <th>4</th>\n",
       "      <td>5uwns89zht</td>\n",
       "      <td>other</td>\n",
       "    </tr>\n",
       "    <tr>\n",
       "      <th>5</th>\n",
       "      <td>jtl0dijy2j</td>\n",
       "      <td>NDF</td>\n",
       "    </tr>\n",
       "    <tr>\n",
       "      <th>6</th>\n",
       "      <td>jtl0dijy2j</td>\n",
       "      <td>US</td>\n",
       "    </tr>\n",
       "    <tr>\n",
       "      <th>7</th>\n",
       "      <td>jtl0dijy2j</td>\n",
       "      <td>other</td>\n",
       "    </tr>\n",
       "    <tr>\n",
       "      <th>8</th>\n",
       "      <td>jtl0dijy2j</td>\n",
       "      <td>IT</td>\n",
       "    </tr>\n",
       "    <tr>\n",
       "      <th>9</th>\n",
       "      <td>jtl0dijy2j</td>\n",
       "      <td>FR</td>\n",
       "    </tr>\n",
       "  </tbody>\n",
       "</table>\n",
       "</div>"
      ],
      "text/plain": [
       "           id country\n",
       "0  5uwns89zht      US\n",
       "1  5uwns89zht     NDF\n",
       "2  5uwns89zht      FR\n",
       "3  5uwns89zht      NL\n",
       "4  5uwns89zht   other\n",
       "5  jtl0dijy2j     NDF\n",
       "6  jtl0dijy2j      US\n",
       "7  jtl0dijy2j   other\n",
       "8  jtl0dijy2j      IT\n",
       "9  jtl0dijy2j      FR"
      ]
     },
     "execution_count": 111,
     "metadata": {},
     "output_type": "execute_result"
    }
   ],
   "source": [
    "print(submission_df.shape)\n",
    "submission_df.head(10)"
   ]
  },
  {
   "cell_type": "code",
   "execution_count": 112,
   "metadata": {
    "collapsed": true
   },
   "outputs": [],
   "source": [
    "#csvファイルに書き出す\n",
    "submission_df.to_csv(\"Airbnb_submission.csv\",index=False)"
   ]
  },
  {
   "cell_type": "code",
   "execution_count": null,
   "metadata": {
    "collapsed": true
   },
   "outputs": [],
   "source": []
  }
 ],
 "metadata": {
  "kernelspec": {
   "display_name": "Python 3",
   "language": "python",
   "name": "python3"
  },
  "language_info": {
   "codemirror_mode": {
    "name": "ipython",
    "version": 3
   },
   "file_extension": ".py",
   "mimetype": "text/x-python",
   "name": "python",
   "nbconvert_exporter": "python",
   "pygments_lexer": "ipython3",
   "version": "3.6.1"
  }
 },
 "nbformat": 4,
 "nbformat_minor": 2
}
